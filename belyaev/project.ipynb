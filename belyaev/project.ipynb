{
  "cells": [
    {
      "cell_type": "markdown",
      "metadata": {
        "id": "HwxF_bQOBVS8"
      },
      "source": [
        "### Imports & utils"
      ]
    },
    {
      "cell_type": "code",
      "execution_count": 1,
      "metadata": {
        "colab": {
          "base_uri": "https://localhost:8080/"
        },
        "id": "cTvSj-iAEOIO",
        "outputId": "50cfd008-fea1-435b-c448-91206484045d"
      },
      "outputs": [
        {
          "name": "stdout",
          "output_type": "stream",
          "text": [
            "Requirement already satisfied: datasets in c:\\program files\\python310\\lib\\site-packages (2.12.0)\n",
            "Requirement already satisfied: transformers[torch] in c:\\program files\\python310\\lib\\site-packages (4.11.3)\n",
            "Requirement already satisfied: numpy>=1.17 in c:\\program files\\python310\\lib\\site-packages (from datasets) (1.23.3)\n",
            "Requirement already satisfied: pyarrow>=8.0.0 in c:\\program files\\python310\\lib\\site-packages (from datasets) (12.0.0)\n",
            "Requirement already satisfied: dill<0.3.7,>=0.3.0 in c:\\program files\\python310\\lib\\site-packages (from datasets) (0.3.6)\n",
            "Requirement already satisfied: pandas in c:\\program files\\python310\\lib\\site-packages (from datasets) (1.5.1)\n",
            "Requirement already satisfied: requests>=2.19.0 in c:\\program files\\python310\\lib\\site-packages (from datasets) (2.28.1)\n",
            "Requirement already satisfied: tqdm>=4.62.1 in c:\\program files\\python310\\lib\\site-packages (from datasets) (4.64.1)\n",
            "Requirement already satisfied: xxhash in c:\\program files\\python310\\lib\\site-packages (from datasets) (3.2.0)\n",
            "Requirement already satisfied: multiprocess in c:\\program files\\python310\\lib\\site-packages (from datasets) (0.70.14)\n",
            "Requirement already satisfied: fsspec[http]>=2021.11.1 in c:\\program files\\python310\\lib\\site-packages (from datasets) (2023.5.0)\n",
            "Requirement already satisfied: aiohttp in c:\\program files\\python310\\lib\\site-packages (from datasets) (3.8.5)\n",
            "Requirement already satisfied: huggingface-hub<1.0.0,>=0.11.0 in c:\\program files\\python310\\lib\\site-packages (from datasets) (0.14.1)\n",
            "Requirement already satisfied: packaging in c:\\program files\\python310\\lib\\site-packages (from datasets) (21.3)\n",
            "Requirement already satisfied: responses<0.19 in c:\\program files\\python310\\lib\\site-packages (from datasets) (0.18.0)\n",
            "Requirement already satisfied: pyyaml>=5.1 in c:\\program files\\python310\\lib\\site-packages (from datasets) (6.0)\n",
            "Requirement already satisfied: filelock in c:\\program files\\python310\\lib\\site-packages (from transformers[torch]) (3.8.0)\n",
            "Requirement already satisfied: regex!=2019.12.17 in c:\\program files\\python310\\lib\\site-packages (from transformers[torch]) (2022.10.31)\n",
            "Requirement already satisfied: sacremoses in c:\\program files\\python310\\lib\\site-packages (from transformers[torch]) (0.0.53)\n",
            "Requirement already satisfied: tokenizers<0.11,>=0.10.1 in c:\\program files\\python310\\lib\\site-packages (from transformers[torch]) (0.10.3)\n",
            "Requirement already satisfied: torch>=1.0 in c:\\program files\\python310\\lib\\site-packages (from transformers[torch]) (2.0.0+cu117)\n",
            "Requirement already satisfied: attrs>=17.3.0 in c:\\program files\\python310\\lib\\site-packages (from aiohttp->datasets) (23.1.0)\n",
            "Requirement already satisfied: charset-normalizer<4.0,>=2.0 in c:\\program files\\python310\\lib\\site-packages (from aiohttp->datasets) (2.0.12)\n",
            "Requirement already satisfied: multidict<7.0,>=4.5 in c:\\program files\\python310\\lib\\site-packages (from aiohttp->datasets) (6.0.2)\n",
            "Requirement already satisfied: async-timeout<5.0,>=4.0.0a3 in c:\\program files\\python310\\lib\\site-packages (from aiohttp->datasets) (4.0.2)\n",
            "Requirement already satisfied: yarl<2.0,>=1.0 in c:\\program files\\python310\\lib\\site-packages (from aiohttp->datasets) (1.8.1)\n",
            "Requirement already satisfied: frozenlist>=1.1.1 in c:\\program files\\python310\\lib\\site-packages (from aiohttp->datasets) (1.3.3)\n",
            "Requirement already satisfied: aiosignal>=1.1.2 in c:\\program files\\python310\\lib\\site-packages (from aiohttp->datasets) (1.3.1)\n",
            "Requirement already satisfied: typing-extensions>=3.7.4.3 in c:\\program files\\python310\\lib\\site-packages (from huggingface-hub<1.0.0,>=0.11.0->datasets) (4.7.1)\n",
            "Requirement already satisfied: pyparsing!=3.0.5,>=2.0.2 in c:\\program files\\python310\\lib\\site-packages (from packaging->datasets) (3.0.7)\n",
            "Requirement already satisfied: idna<4,>=2.5 in c:\\program files\\python310\\lib\\site-packages (from requests>=2.19.0->datasets) (3.3)\n",
            "Requirement already satisfied: urllib3<1.27,>=1.21.1 in c:\\program files\\python310\\lib\\site-packages (from requests>=2.19.0->datasets) (1.26.13)\n",
            "Requirement already satisfied: certifi>=2017.4.17 in c:\\program files\\python310\\lib\\site-packages (from requests>=2.19.0->datasets) (2023.7.22)\n",
            "Requirement already satisfied: sympy in c:\\program files\\python310\\lib\\site-packages (from torch>=1.0->transformers[torch]) (1.11.1)\n",
            "Requirement already satisfied: networkx in c:\\program files\\python310\\lib\\site-packages (from torch>=1.0->transformers[torch]) (2.8.7)\n",
            "Requirement already satisfied: jinja2 in c:\\program files\\python310\\lib\\site-packages (from torch>=1.0->transformers[torch]) (3.1.2)\n",
            "Requirement already satisfied: colorama in c:\\program files\\python310\\lib\\site-packages (from tqdm>=4.62.1->datasets) (0.4.6)\n",
            "Requirement already satisfied: python-dateutil>=2.8.1 in c:\\program files\\python310\\lib\\site-packages (from pandas->datasets) (2.8.2)\n",
            "Requirement already satisfied: pytz>=2020.1 in c:\\program files\\python310\\lib\\site-packages (from pandas->datasets) (2022.5)\n",
            "Requirement already satisfied: six in c:\\program files\\python310\\lib\\site-packages (from sacremoses->transformers[torch]) (1.16.0)\n",
            "Requirement already satisfied: click in c:\\program files\\python310\\lib\\site-packages (from sacremoses->transformers[torch]) (8.1.3)\n",
            "Requirement already satisfied: joblib in c:\\program files\\python310\\lib\\site-packages (from sacremoses->transformers[torch]) (1.2.0)\n",
            "Requirement already satisfied: MarkupSafe>=2.0 in c:\\program files\\python310\\lib\\site-packages (from jinja2->torch>=1.0->transformers[torch]) (2.1.1)\n",
            "Requirement already satisfied: mpmath>=0.19 in c:\\program files\\python310\\lib\\site-packages (from sympy->torch>=1.0->transformers[torch]) (1.2.1)\n",
            "Note: you may need to restart the kernel to use updated packages.\n"
          ]
        },
        {
          "name": "stderr",
          "output_type": "stream",
          "text": [
            "\n",
            "[notice] A new release of pip is available: 21.2.3 -> 23.3.1\n",
            "[notice] To update, run: python.exe -m pip install --upgrade pip\n"
          ]
        }
      ],
      "source": [
        "%pip install datasets transformers[torch]"
      ]
    },
    {
      "cell_type": "code",
      "execution_count": 2,
      "metadata": {},
      "outputs": [
        {
          "name": "stderr",
          "output_type": "stream",
          "text": [
            "'wget' is not recognized as an internal or external command,\n",
            "operable program or batch file.\n"
          ]
        }
      ],
      "source": [
        "!wget https://raw.githubusercontent.com/akshaybhalotia/yc_company_scraper/main/data/yc_essential_data.csv"
      ]
    },
    {
      "cell_type": "code",
      "execution_count": 3,
      "metadata": {
        "id": "_lJckZNeBVS9"
      },
      "outputs": [],
      "source": [
        "from __future__ import annotations\n",
        "import typing\n",
        "from dataclasses import dataclass, field\n",
        "import warnings\n",
        "from contextlib import contextmanager\n",
        "import itertools\n",
        "import functools\n",
        "import logging\n",
        "from ast import literal_eval"
      ]
    },
    {
      "cell_type": "code",
      "execution_count": 4,
      "metadata": {
        "id": "AE4VtDAvBVS-"
      },
      "outputs": [],
      "source": [
        "import numpy as np\n",
        "import matplotlib.pyplot as plt\n",
        "import pandas as pd\n",
        "import tqdm"
      ]
    },
    {
      "cell_type": "code",
      "execution_count": 5,
      "metadata": {
        "id": "GFyzYyYUBVS-"
      },
      "outputs": [],
      "source": [
        "import torch\n",
        "import torch.nn as nn\n",
        "import torch.nn.functional\n",
        "import transformers\n",
        "import transformers.modeling_outputs\n",
        "import datasets\n",
        "import bp_mll"
      ]
    },
    {
      "cell_type": "code",
      "execution_count": 6,
      "metadata": {
        "id": "J2s82wu8BVS_"
      },
      "outputs": [],
      "source": [
        "@contextmanager\n",
        "def localize_globals(*exceptions: str, restore_values: bool = True):\n",
        "    exceptions: typing.Set[str] = set(exceptions)\n",
        "\n",
        "    old_globals: typing.Dict[str, typing.Any] = dict(globals())\n",
        "    allowed: typing.Set[str] = set(old_globals.keys())\n",
        "    allowed.update(exceptions)\n",
        "\n",
        "    yield None\n",
        "\n",
        "    new_globals: typing.Dict[str, typing.Any] = globals()\n",
        "\n",
        "    for name in tuple(new_globals.keys()):\n",
        "        if name not in allowed:\n",
        "            del new_globals[name]\n",
        "\n",
        "    if not restore_values:\n",
        "        return\n",
        "\n",
        "    new_globals.update(\n",
        "        {k: v for k, v in old_globals.items() if k not in exceptions}\n",
        "    )"
      ]
    },
    {
      "cell_type": "code",
      "execution_count": 7,
      "metadata": {
        "id": "ZO1v4MeDBVS_"
      },
      "outputs": [],
      "source": [
        "logging.basicConfig(\n",
        "    level=logging.INFO,\n",
        "    format=\"[{levelname}] {message}\",\n",
        "    style=\"{\",\n",
        ")"
      ]
    },
    {
      "cell_type": "code",
      "execution_count": 8,
      "metadata": {},
      "outputs": [
        {
          "data": {
            "text/plain": [
              "device(type='cuda')"
            ]
          },
          "execution_count": 8,
          "metadata": {},
          "output_type": "execute_result"
        }
      ],
      "source": [
        "device = torch.device(\"cuda\" if torch.cuda.is_available() else \"cpu\")\n",
        "device"
      ]
    },
    {
      "cell_type": "markdown",
      "metadata": {
        "id": "kdN4rk3yBVS_"
      },
      "source": [
        "### Data preprocessing"
      ]
    },
    {
      "cell_type": "code",
      "execution_count": 9,
      "metadata": {
        "colab": {
          "base_uri": "https://localhost:8080/",
          "height": 206
        },
        "id": "F9qRoUMlBVS_",
        "outputId": "aded918e-6ad5-4303-c47f-ac5c3adbff14"
      },
      "outputs": [
        {
          "data": {
            "text/html": [
              "<div>\n",
              "<style scoped>\n",
              "    .dataframe tbody tr th:only-of-type {\n",
              "        vertical-align: middle;\n",
              "    }\n",
              "\n",
              "    .dataframe tbody tr th {\n",
              "        vertical-align: top;\n",
              "    }\n",
              "\n",
              "    .dataframe thead th {\n",
              "        text-align: right;\n",
              "    }\n",
              "</style>\n",
              "<table border=\"1\" class=\"dataframe\">\n",
              "  <thead>\n",
              "    <tr style=\"text-align: right;\">\n",
              "      <th></th>\n",
              "      <th>name</th>\n",
              "      <th>one_liner</th>\n",
              "      <th>long_description</th>\n",
              "      <th>tags</th>\n",
              "    </tr>\n",
              "  </thead>\n",
              "  <tbody>\n",
              "    <tr>\n",
              "      <th>0</th>\n",
              "      <td>Wufoo</td>\n",
              "      <td>Online form builder.</td>\n",
              "      <td>Wufoo is a web application that helps anybody ...</td>\n",
              "      <td>[SaaS, Productivity]</td>\n",
              "    </tr>\n",
              "    <tr>\n",
              "      <th>1</th>\n",
              "      <td>Project Wedding</td>\n",
              "      <td></td>\n",
              "      <td>Finding wedding vendors is hard. In 2007, a co...</td>\n",
              "      <td>[]</td>\n",
              "    </tr>\n",
              "    <tr>\n",
              "      <th>2</th>\n",
              "      <td>Clustrix</td>\n",
              "      <td></td>\n",
              "      <td>Clustrix provides the leading scale-out relati...</td>\n",
              "      <td>[]</td>\n",
              "    </tr>\n",
              "    <tr>\n",
              "      <th>3</th>\n",
              "      <td>Inkling</td>\n",
              "      <td></td>\n",
              "      <td>Inkling, based in Chicago, Illinois, offers co...</td>\n",
              "      <td>[]</td>\n",
              "    </tr>\n",
              "    <tr>\n",
              "      <th>4</th>\n",
              "      <td>Audiobeta</td>\n",
              "      <td></td>\n",
              "      <td>AudioBeta develops web-based applications that...</td>\n",
              "      <td>[]</td>\n",
              "    </tr>\n",
              "  </tbody>\n",
              "</table>\n",
              "</div>"
            ],
            "text/plain": [
              "              name             one_liner  \\\n",
              "0            Wufoo  Online form builder.   \n",
              "1  Project Wedding                         \n",
              "2         Clustrix                         \n",
              "3          Inkling                         \n",
              "4        Audiobeta                         \n",
              "\n",
              "                                    long_description                  tags  \n",
              "0  Wufoo is a web application that helps anybody ...  [SaaS, Productivity]  \n",
              "1  Finding wedding vendors is hard. In 2007, a co...                    []  \n",
              "2  Clustrix provides the leading scale-out relati...                    []  \n",
              "3  Inkling, based in Chicago, Illinois, offers co...                    []  \n",
              "4  AudioBeta develops web-based applications that...                    []  "
            ]
          },
          "execution_count": 9,
          "metadata": {},
          "output_type": "execute_result"
        }
      ],
      "source": [
        "data: pd.DataFrame = pd.read_csv(\"yc_essential_data.csv\")\n",
        "\n",
        "# Limit to the columns we're interested in\n",
        "data = data[[\"name\", \"one_liner\", \"long_description\", \"tags\"]]\n",
        "\n",
        "# Convert tags to a list\n",
        "data[\"tags\"] = data[\"tags\"].apply(literal_eval)\n",
        "assert isinstance(data.at[0, \"tags\"], list), \"Didn't work!\"\n",
        "\n",
        "# Okay, apparently an empty string makes a nan by default\n",
        "# Gotta reverse it\n",
        "data[\"one_liner\"].replace(\n",
        "    to_replace=np.nan,\n",
        "    value=\"\",\n",
        "    inplace=True,\n",
        ")\n",
        "\n",
        "data[\"long_description\"].replace(\n",
        "    to_replace=np.nan,\n",
        "    value=\"\",\n",
        "    inplace=True,\n",
        ")\n",
        "\n",
        "# Preview the results\n",
        "data.head()"
      ]
    },
    {
      "cell_type": "code",
      "execution_count": 10,
      "metadata": {},
      "outputs": [
        {
          "data": {
            "text/html": [
              "<div>\n",
              "<style scoped>\n",
              "    .dataframe tbody tr th:only-of-type {\n",
              "        vertical-align: middle;\n",
              "    }\n",
              "\n",
              "    .dataframe tbody tr th {\n",
              "        vertical-align: top;\n",
              "    }\n",
              "\n",
              "    .dataframe thead th {\n",
              "        text-align: right;\n",
              "    }\n",
              "</style>\n",
              "<table border=\"1\" class=\"dataframe\">\n",
              "  <thead>\n",
              "    <tr style=\"text-align: right;\">\n",
              "      <th></th>\n",
              "      <th>name</th>\n",
              "      <th>one_liner</th>\n",
              "      <th>long_description</th>\n",
              "      <th>tags</th>\n",
              "    </tr>\n",
              "  </thead>\n",
              "  <tbody>\n",
              "    <tr>\n",
              "      <th>3926</th>\n",
              "      <td>Value Voting</td>\n",
              "      <td>Platform to defeat political extremism through...</td>\n",
              "      <td>Value Voting develops political targeting soft...</td>\n",
              "      <td>[Marketplace]</td>\n",
              "    </tr>\n",
              "    <tr>\n",
              "      <th>2063</th>\n",
              "      <td>Terapify</td>\n",
              "      <td>The leading mental healthcare platform in Lati...</td>\n",
              "      <td>Terapify offers high-quality on-demand mental ...</td>\n",
              "      <td>[Mental Health Tech, Consumer Health Services,...</td>\n",
              "    </tr>\n",
              "    <tr>\n",
              "      <th>4059</th>\n",
              "      <td>Rally</td>\n",
              "      <td>Rally is Zoom for social events</td>\n",
              "      <td>Rally is what Zoom breakouts should have been....</td>\n",
              "      <td>[Collaboration, Video, Social]</td>\n",
              "    </tr>\n",
              "    <tr>\n",
              "      <th>2608</th>\n",
              "      <td>Gas Pos</td>\n",
              "      <td>Modern Point of Sale for Gas Stations and Truc...</td>\n",
              "      <td>We have taken an incredibly monopolized, overp...</td>\n",
              "      <td>[Fintech, SaaS, B2B]</td>\n",
              "    </tr>\n",
              "    <tr>\n",
              "      <th>4043</th>\n",
              "      <td>Atmos</td>\n",
              "      <td>The entire homebuilding process, all online</td>\n",
              "      <td></td>\n",
              "      <td>[Housing, Proptech]</td>\n",
              "    </tr>\n",
              "    <tr>\n",
              "      <th>1894</th>\n",
              "      <td>HUBUC</td>\n",
              "      <td>Global Card Issuing and Payment Processing Engine</td>\n",
              "      <td>HUBUC P1 is a lightning-fast global card issui...</td>\n",
              "      <td>[Fintech, Payments, B2B, API, Infrastructure]</td>\n",
              "    </tr>\n",
              "    <tr>\n",
              "      <th>3722</th>\n",
              "      <td>Superpowered AI</td>\n",
              "      <td>API for Retrieval Augmented Generation</td>\n",
              "      <td>Superpowered AI makes it easy to build product...</td>\n",
              "      <td>[Artificial Intelligence, Developer Tools, Gen...</td>\n",
              "    </tr>\n",
              "    <tr>\n",
              "      <th>1518</th>\n",
              "      <td>Outschool</td>\n",
              "      <td>A live online learning platform that empowers ...</td>\n",
              "      <td>Outschool is an innovative education platform ...</td>\n",
              "      <td>[Education, Marketplace]</td>\n",
              "    </tr>\n",
              "    <tr>\n",
              "      <th>2781</th>\n",
              "      <td>Syncro</td>\n",
              "      <td>Zapier for scaling high-touch talent management</td>\n",
              "      <td>Integrate your HRIS, ATS, and communication st...</td>\n",
              "      <td>[Workflow Automation, Recruiting]</td>\n",
              "    </tr>\n",
              "    <tr>\n",
              "      <th>2155</th>\n",
              "      <td>Codeball</td>\n",
              "      <td>AI-Powered Code Review</td>\n",
              "      <td>Codeball finds bugs in your Pull Requests, let...</td>\n",
              "      <td>[Artificial Intelligence, Developer Tools, SaaS]</td>\n",
              "    </tr>\n",
              "  </tbody>\n",
              "</table>\n",
              "</div>"
            ],
            "text/plain": [
              "                 name                                          one_liner  \\\n",
              "3926     Value Voting  Platform to defeat political extremism through...   \n",
              "2063         Terapify  The leading mental healthcare platform in Lati...   \n",
              "4059            Rally                    Rally is Zoom for social events   \n",
              "2608          Gas Pos  Modern Point of Sale for Gas Stations and Truc...   \n",
              "4043            Atmos        The entire homebuilding process, all online   \n",
              "1894            HUBUC  Global Card Issuing and Payment Processing Engine   \n",
              "3722  Superpowered AI             API for Retrieval Augmented Generation   \n",
              "1518        Outschool  A live online learning platform that empowers ...   \n",
              "2781           Syncro    Zapier for scaling high-touch talent management   \n",
              "2155         Codeball                             AI-Powered Code Review   \n",
              "\n",
              "                                       long_description  \\\n",
              "3926  Value Voting develops political targeting soft...   \n",
              "2063  Terapify offers high-quality on-demand mental ...   \n",
              "4059  Rally is what Zoom breakouts should have been....   \n",
              "2608  We have taken an incredibly monopolized, overp...   \n",
              "4043                                                      \n",
              "1894  HUBUC P1 is a lightning-fast global card issui...   \n",
              "3722  Superpowered AI makes it easy to build product...   \n",
              "1518  Outschool is an innovative education platform ...   \n",
              "2781  Integrate your HRIS, ATS, and communication st...   \n",
              "2155  Codeball finds bugs in your Pull Requests, let...   \n",
              "\n",
              "                                                   tags  \n",
              "3926                                      [Marketplace]  \n",
              "2063  [Mental Health Tech, Consumer Health Services,...  \n",
              "4059                     [Collaboration, Video, Social]  \n",
              "2608                               [Fintech, SaaS, B2B]  \n",
              "4043                                [Housing, Proptech]  \n",
              "1894      [Fintech, Payments, B2B, API, Infrastructure]  \n",
              "3722  [Artificial Intelligence, Developer Tools, Gen...  \n",
              "1518                           [Education, Marketplace]  \n",
              "2781                  [Workflow Automation, Recruiting]  \n",
              "2155   [Artificial Intelligence, Developer Tools, SaaS]  "
            ]
          },
          "execution_count": 10,
          "metadata": {},
          "output_type": "execute_result"
        }
      ],
      "source": [
        "data.sample(10)"
      ]
    },
    {
      "cell_type": "markdown",
      "metadata": {},
      "source": [
        "// TODO: Don't use the name, remove it from long_description as well?"
      ]
    },
    {
      "cell_type": "code",
      "execution_count": 214,
      "metadata": {
        "colab": {
          "base_uri": "https://localhost:8080/"
        },
        "id": "2HGrfSDgBVTA",
        "outputId": "7f5e7aca-5228-4d2c-9e31-3d7ce4b22226"
      },
      "outputs": [
        {
          "data": {
            "text/plain": [
              "0          3D Printed Foods\n",
              "1               3D Printing\n",
              "2                        AI\n",
              "3              AI Assistant\n",
              "4      AI-Enhanced Learning\n",
              "               ...         \n",
              "324          Women's Health\n",
              "325     Workflow Automation\n",
              "326               eLearning\n",
              "327                 eSports\n",
              "328                    web3\n",
              "Length: 329, dtype: object"
            ]
          },
          "execution_count": 214,
          "metadata": {},
          "output_type": "execute_result"
        }
      ],
      "source": [
        "# Gather all unique tags\n",
        "with localize_globals(\"all_tags\"):\n",
        "    tags_set: set[str] = set(itertools.chain.from_iterable(data[\"tags\"]))\n",
        "    \n",
        "    tags_list: list[str] = sorted(tags_set)\n",
        "    # A special tag at index 0\n",
        "    # tags_list.insert(0, \"[DUMMY]\")\n",
        "\n",
        "    all_tags: pd.Series = pd.Series(tags_list)\n",
        "\n",
        "all_tags"
      ]
    },
    {
      "cell_type": "markdown",
      "metadata": {
        "id": "g55MftN1BVTA"
      },
      "source": [
        "### Pretrained models"
      ]
    },
    {
      "cell_type": "code",
      "execution_count": 55,
      "metadata": {
        "colab": {
          "base_uri": "https://localhost:8080/",
          "height": 177,
          "referenced_widgets": [
            "63cb2a392d314e2b8a80308bf340bd32",
            "cfdc2edeafc64caf856b05743a776251",
            "021770ef8908442bb593722adcd2488f",
            "eb46fff856b444deacb39a4daa80469d",
            "e364ab9dd63e4bf8801a0111c9eb606d",
            "4208f05916f7473ea171e75035a37650",
            "92d9c4d3f8614947b0a503ca3f250c2a",
            "415f148f153c4ab39d60adea6dcca026",
            "b37fc9745e2f4624825f1e42a205ca38",
            "41930b5d45eb466ab36c3c89c8e4a29e",
            "13852c2a84e14394855f3c91dbeac7c6",
            "57604517efc64d42b96836c0b024438f",
            "64229a1dce3345c8bcbdc8acfc7c50ee",
            "333d5f984f8f430f846fd48c0ca6d1e8",
            "3fd6e76341a1448fa2509e949cfd2fd4",
            "6c96258102f44775ba0ba683a2ec1ffb",
            "4c00ed9fbb6349f6986d5972c81b35db",
            "d652771a32994ae0b002e7aa65e9a707",
            "2f7f17937ffc49c2a3857ce52c6fb918",
            "c393c7fdb3b24a8e8dd614b38de178e5",
            "5779825114e24f7f955bc1eeaf22f9c3",
            "15ef83528028499a93447d21d595b9bc",
            "c62f528051fb49969f26b8d177159117",
            "e6c8bf8e45934cfcb571e02d7769c305",
            "24448ceb200c4392803c0c7d31513b1d",
            "f003b0c2a60b40209c995bafb74c3cd9",
            "cbbb942c32b945758855e6d23f5c48c8",
            "13414e20a34441a29916bf3837bc0d69",
            "75e0a9d574ec42cca9ae5fd4a59e67c0",
            "51818e51fdb64b2185b85a1778891616",
            "f917c8a26f8343a49f9f62181d895814",
            "1713e644cddb4ba7847d9cf45ace4e2e",
            "528d26a698474b159e0f692393ed0154",
            "bd615472718347a4811096c3b73f8f55",
            "40c355534ba34901a007b07626ca54df",
            "9c9e3c2ff96f4170902915ee4b6351f9",
            "5403d0025f544651914eeb3891e3da33",
            "46e2b893a7df4d2a9e8b1c390f57557c",
            "59ae8c0954da408da71adb54e176c197",
            "a2ca2d0459d24af4b2b80cf679f3f28e",
            "bf222c219f474eeba73d463ea6ddbcdb",
            "28501ab2aad040d68099e886426f2218",
            "0c04cb5fdddd489794bd88921154330b",
            "89872f648ed94bdba7f9b5bbdaaac09f",
            "4ce0fb19d37e4a8ca8298eb4f0b79bf3",
            "7972e2dfffe2437db5298a3e15d64634",
            "26e9ab61fe9e4fe89e4db167255f3a86",
            "5c744f19262f4347835d638a284eb5ca",
            "8b9138c65aa44adc89c3e84e94664b61",
            "fbf062c75e5c4c0bbd5f87d7e5cb5eb6",
            "533a0fda590a44468b6aca0b84b14f71",
            "772c7b572e02484ca868db504f76c3a9",
            "466d0f725d87446c90980b686bd52b5a",
            "148353aac8384a14b92086ebf5b18087",
            "1a4640015286495a95902cb10220b8a6"
          ]
        },
        "id": "LD_G8VYWBVTA",
        "outputId": "df1aedca-6aad-42e5-be1f-83df83828588"
      },
      "outputs": [],
      "source": [
        "tokenizer: transformers.DistilBertTokenizer = transformers.DistilBertTokenizer.from_pretrained(\n",
        "    \"distilbert-base-uncased\",\n",
        "    device=device,\n",
        ")\n",
        "\n",
        "# nlp_model: transformers.DistilBertModel = transformers.DistilBertModel.from_pretrained(\n",
        "#     \"distilbert-base-uncased\",\n",
        "# )"
      ]
    },
    {
      "cell_type": "code",
      "execution_count": 13,
      "metadata": {
        "id": "skz12dnSBVTB"
      },
      "outputs": [],
      "source": [
        "MAX_TOKENS: int = 512\n",
        "EMBEDDING_SIZE: int = 768"
      ]
    },
    {
      "cell_type": "markdown",
      "metadata": {
        "id": "dxQVWVHaBVTB"
      },
      "source": [
        "### Dataset preparation"
      ]
    },
    {
      "cell_type": "code",
      "execution_count": 215,
      "metadata": {
        "colab": {
          "base_uri": "https://localhost:8080/"
        },
        "id": "V4TcYb7fBVTB",
        "outputId": "e81e09bb-9e18-45a1-9609-0818e5a1f911"
      },
      "outputs": [
        {
          "data": {
            "text/plain": [
              "Dataset({\n",
              "    features: ['name', 'one_liner', 'long_description', 'tags'],\n",
              "    num_rows: 4423\n",
              "})"
            ]
          },
          "execution_count": 215,
          "metadata": {},
          "output_type": "execute_result"
        }
      ],
      "source": [
        "with localize_globals(\"complete_dataset\"):\n",
        "    def preprocess(batch: dict[str, typing.Any]) -> dict[str, typing.Any]:\n",
        "        batch[\"orig_idx\"] = torch.zeros(len(batch[\"name\"]))\n",
        "        for i, name in enumerate(batch[\"name\"]):\n",
        "            batch[\"orig_idx\"][i] = data.index[data[\"name\"] == name].values[0]\n",
        "        \n",
        "        for column in (\n",
        "            \"name\",\n",
        "            \"one_liner\",\n",
        "            \"long_description\",\n",
        "        ):\n",
        "            tmp = tokenizer(\n",
        "                batch[column],\n",
        "                truncation=True,\n",
        "                padding=\"max_length\",\n",
        "                max_length=MAX_TOKENS,\n",
        "                return_tensors=\"pt\",\n",
        "                add_special_tokens=True,\n",
        "            ).data\n",
        "\n",
        "            # logging.info(f\"!! {tmp['input_ids'].shape}, {tmp['attention_mask'].shape}\")\n",
        "            batch[column] = tmp[\"input_ids\"].to(device)\n",
        "            batch[f\"{column}_mask\"] = tmp[\"attention_mask\"].to(device)\n",
        "        \n",
        "        # TODO: Since this is the target, process it separately?\n",
        "        if \"tags\" in batch:\n",
        "            batch[\"tags\"] = torch.stack([\n",
        "                torch.tensor(all_tags.apply(tags.__contains__), dtype=torch.float, device=device)\n",
        "                for tags in batch[\"tags\"]\n",
        "            ])\n",
        "            # batch[\"tags\"][:, 0] = 1.  # Dummy tag is always present\n",
        "\n",
        "        return batch\n",
        "\n",
        "    complete_dataset = (\n",
        "        datasets.Dataset\n",
        "        .from_pandas(data)\n",
        "        # .with_format(None)\n",
        "        .with_transform(preprocess)\n",
        "    )\n",
        "\n",
        "complete_dataset"
      ]
    },
    {
      "cell_type": "code",
      "execution_count": 216,
      "metadata": {
        "colab": {
          "base_uri": "https://localhost:8080/"
        },
        "id": "DXP835S3BVTC",
        "outputId": "33053f80-9fcd-4022-f2c1-d9d2b54154d0"
      },
      "outputs": [
        {
          "data": {
            "text/plain": [
              "(Dataset({\n",
              "     features: ['name', 'one_liner', 'long_description', 'tags'],\n",
              "     num_rows: 3538\n",
              " }),\n",
              " Dataset({\n",
              "     features: ['name', 'one_liner', 'long_description', 'tags'],\n",
              "     num_rows: 619\n",
              " }),\n",
              " Dataset({\n",
              "     features: ['name', 'one_liner', 'long_description', 'tags'],\n",
              "     num_rows: 266\n",
              " }))"
            ]
          },
          "execution_count": 216,
          "metadata": {},
          "output_type": "execute_result"
        }
      ],
      "source": [
        "with localize_globals(\"train_dataset\", \"val_dataset\", \"test_dataset\"):\n",
        "    train_test_split = complete_dataset.train_test_split(test_size=0.2)\n",
        "    train_dataset = train_test_split[\"train\"]\n",
        "\n",
        "    test_val_split = train_test_split[\"test\"].train_test_split(test_size=0.3)\n",
        "    val_dataset = test_val_split[\"train\"]\n",
        "    test_dataset = test_val_split[\"test\"]\n",
        "\n",
        "train_dataset, val_dataset, test_dataset"
      ]
    },
    {
      "cell_type": "markdown",
      "metadata": {},
      "source": [
        "### Model definition"
      ]
    },
    {
      "cell_type": "code",
      "execution_count": 217,
      "metadata": {
        "id": "vL9SIlWIBVTC"
      },
      "outputs": [],
      "source": [
        "class NLPWrapperModule(nn.Module):\n",
        "    \"\"\"\n",
        "    Wraps an nlp module and performs the following pre- and postprocessing:\n",
        "    \n",
        "    - Takes a dictionary and `**`-unwraps it for the submodule's input\n",
        "    - Takes `.last_hidden_state` from the submodule's result and returns only it\n",
        "    \n",
        "    Note that the wrapper is opaque, hiding the parameters of the underlying\n",
        "    NLP module to avoid tuning and saving it.\n",
        "    \"\"\"\n",
        "    \n",
        "    bert: nn.Module\n",
        "    \n",
        "    def __init__(self) -> None:\n",
        "        super().__init__()\n",
        "        \n",
        "        bert: transformers.DistilBertModel = transformers.DistilBertModel.from_pretrained(\n",
        "            \"distilbert-base-uncased\",\n",
        "        )\n",
        "        \n",
        "        bert.to(device)\n",
        "        \n",
        "        # I can't afford to also tune BERT, nor do I need to\n",
        "        bert.train(False)\n",
        "        for param in bert.parameters():\n",
        "            param.requires_grad = False\n",
        "        \n",
        "        # I want it to exclude bert from the perceived parameters\n",
        "        object.__setattr__(self, \"bert\", bert)\n",
        "        \n",
        "        assert not self._modules, f\"Opacity failure: {self._modules}\"\n",
        "    \n",
        "    def forward(\n",
        "        self,\n",
        "        params: typing.Mapping[str, torch.Tensor],\n",
        "    ) -> torch.Tensor:\n",
        "        # (batch_size, MAX_TOKENS, EMBEDDING_SIZE)\n",
        "        result: torch.Tensor = self.bert(**params).last_hidden_state\n",
        "        \n",
        "        # The [CLS] token is added at position 0 along axis 1\n",
        "        return result[:, 0, :]\n",
        "        \n",
        "        # Sum the result along axis 1 with weights equal to the attention mask\n",
        "        # (batch_size, EMBEDDING_SIZE)\n",
        "        # return torch.sum(result * params[\"attention_mask\"].unsqueeze(-1), dim=1)\n",
        "    \n",
        "    # A hack, but it works\n",
        "    def to(self, device: torch.device) -> None:\n",
        "        super().to(device)\n",
        "        self.bert.to(device)\n"
      ]
    },
    {
      "cell_type": "code",
      "execution_count": 218,
      "metadata": {},
      "outputs": [],
      "source": [
        "class MultiNLPModule(nn.Module):\n",
        "    \"\"\"\n",
        "    Takes multiple inputs from named columns of a dataset,\n",
        "    passes them to BERT, and concatenates the results.\n",
        "    \"\"\"\n",
        "    \n",
        "    inputs: list[str]\n",
        "    submodule: NLPWrapperModule\n",
        "    \n",
        "    def __init__(\n",
        "        self,\n",
        "        inputs: typing.Collection[str],\n",
        "    ) -> None:\n",
        "        super().__init__()\n",
        "        \n",
        "        self.inputs = list(inputs)\n",
        "        self.submodule = NLPWrapperModule()\n",
        "    \n",
        "    def forward(\n",
        "        self,\n",
        "        input_dict: typing.Mapping[str, torch.Tensor],\n",
        "    ) -> torch.Tensor:\n",
        "        assert set(input_dict.keys()).issuperset(self.inputs), \\\n",
        "            f\"Missing parameters: expected {set(self.inputs)}, got only {set(input_dict.keys())}\"\n",
        "\n",
        "        return torch.cat([\n",
        "            self.submodule(input_dict[name])\n",
        "            for name in self.inputs\n",
        "        ], dim=-1)"
      ]
    },
    {
      "cell_type": "code",
      "execution_count": 219,
      "metadata": {},
      "outputs": [],
      "source": [
        "with localize_globals():\n",
        "    import importlib\n",
        "    importlib.reload(bp_mll)"
      ]
    },
    {
      "cell_type": "code",
      "execution_count": 220,
      "metadata": {},
      "outputs": [
        {
          "name": "stdout",
          "output_type": "stream",
          "text": [
            "tensor([[0.8000, 0.5000, 0.0000]], device='cuda:0') tensor([[1., 1., 0.]], device='cuda:0')\n",
            "BP-MLL tensor(0.5279, device='cuda:0')\n",
            "Binary cross entropy tensor(0.3054, device='cuda:0')\n"
          ]
        }
      ],
      "source": [
        "with localize_globals():\n",
        "    tags = torch.tensor([[1.0, 1.0, 0.0]]).to(device)\n",
        "    logits = torch.tensor([[0.8, 0.5, 0.0]]).to(device)\n",
        "    # logits = torch.tensor([[1.0, 0.0, 0.0]]).to(device)\n",
        "    \n",
        "    print(logits, tags)\n",
        "    \n",
        "    print(\"BP-MLL\", bp_mll.BPMLLLoss().to(device)(logits, tags))\n",
        "    print(\"Binary cross entropy\", nn.BCEWithLogitsLoss(pos_weight=torch.tensor([2.0])).to(device)(logits, tags))"
      ]
    },
    {
      "cell_type": "code",
      "execution_count": 243,
      "metadata": {},
      "outputs": [
        {
          "name": "stdout",
          "output_type": "stream",
          "text": [
            "Positive weight imbalance: 132.4535675048828\n"
          ]
        }
      ],
      "source": [
        "with localize_globals(\"positive_weight_imbalance\"):\n",
        "    positives: float = 0\n",
        "    total: float = 0\n",
        "    for batch in train_dataset.iter(1024):\n",
        "        positives += batch[\"tags\"].sum()\n",
        "        total += batch[\"tags\"].nelement()\n",
        "    \n",
        "    positive_weight_imbalance = total / positives\n",
        "    print(f\"Positive weight imbalance: {positive_weight_imbalance}\")"
      ]
    },
    {
      "cell_type": "code",
      "execution_count": 264,
      "metadata": {
        "id": "dztIhNoBBVTC"
      },
      "outputs": [],
      "source": [
        "class YCTagPredictorConfig(transformers.modeling_utils.PretrainedConfig):\n",
        "    model_type: typing.ClassVar[str] = \"yc_tag_predictor\"\n",
        "\n",
        "    def __init__(self, **kwargs: typing.Any) -> None:\n",
        "        super().__init__(**kwargs)\n",
        "\n",
        "\n",
        "class YCTagPredictorModel(transformers.modeling_utils.PreTrainedModel):\n",
        "    config_class = YCTagPredictorConfig\n",
        "    \n",
        "    model: nn.Module\n",
        "    criterion: nn.Module\n",
        "\n",
        "    def __init__(self, config: YCTagPredictorConfig) -> None:\n",
        "        super().__init__(config)\n",
        "\n",
        "        self.model = nn.Sequential(\n",
        "            MultiNLPModule(inputs=(\n",
        "                # \"name\",\n",
        "                \"one_liner\",\n",
        "                \"long_description\",\n",
        "            )),\n",
        "            nn.Linear(\n",
        "                # in_features=EMBEDDING_SIZE * 3,\n",
        "                in_features=EMBEDDING_SIZE * 2,\n",
        "                out_features=len(all_tags),\n",
        "            ),\n",
        "            # nn.Sigmoid(),\n",
        "        ).to(device)\n",
        "        \n",
        "        # https://en.wikipedia.org/wiki/Multi-label_classification?useskin=vector#:~:text=neural%20networks%3A%20BP%2DMLL%20is%20an%20adaptation%20of%20the%20popular%20back%2Dpropagation%20algorithm%20for%20multi%2Dlabel%20learning.\n",
        "        # https://github.com/idocx/BP_MLL_Pytorch\n",
        "        # self.criterion = bp_mll.BPMLLLoss()\n",
        "        # self.criterion = nn.BCEWithLogitsLoss().to(device)\n",
        "        # self.criterion = nn.MSELoss().to(device)\n",
        "        # self.criterion = nn.L1Loss().to(device)\n",
        "        self.criterion = nn.BCEWithLogitsLoss(\n",
        "            pos_weight=torch.tensor([positive_weight_imbalance]),\n",
        "        ).to(device)\n",
        "\n",
        "    def forward(\n",
        "        self,\n",
        "        *,\n",
        "        name: torch.Tensor,\n",
        "        name_mask: torch.Tensor,\n",
        "        one_liner: torch.Tensor,\n",
        "        one_liner_mask: torch.Tensor,\n",
        "        long_description: torch.Tensor,\n",
        "        long_description_mask: torch.Tensor,\n",
        "        tags: torch.Tensor | None = None,\n",
        "        batch: bool = True,\n",
        "        confidence_threshold: float | None = None,\n",
        "        **kwargs,\n",
        "    ) -> dict[str, typing.Any]:\n",
        "        if not batch:\n",
        "            name = name.unsqueeze(0)\n",
        "            name_mask = name_mask.unsqueeze(0)\n",
        "            one_liner = one_liner.unsqueeze(0)\n",
        "            one_liner_mask = one_liner_mask.unsqueeze(0)\n",
        "            long_description = long_description.unsqueeze(0)\n",
        "            long_description_mask = long_description_mask.unsqueeze(0)\n",
        "            \n",
        "            if tags is not None:\n",
        "                tags = tags.unsqueeze(0)\n",
        "        \n",
        "        result: dict[str, torch.Tensor] = {}\n",
        "        \n",
        "        logits: torch.Tensor = self.model(dict(\n",
        "            # name=dict(\n",
        "            #     input_ids=name,\n",
        "            #     attention_mask=name_mask,\n",
        "            # ),\n",
        "            one_liner=dict(\n",
        "                input_ids=one_liner,\n",
        "                attention_mask=one_liner_mask,\n",
        "            ),\n",
        "            long_description=dict(\n",
        "                input_ids=long_description,\n",
        "                attention_mask=long_description_mask,\n",
        "            ),\n",
        "        ))\n",
        "        \n",
        "        result[\"logits\"] = logits\n",
        "        if not batch:\n",
        "            result[\"logits\"] = result[\"logits\"].squeeze(0)\n",
        "\n",
        "        if tags is not None:\n",
        "            loss: torch.Tensor = self.criterion(logits, tags)\n",
        "            \n",
        "            if loss.isnan().sum() > 0:\n",
        "                raise ValueError(\"NaN in loss\")\n",
        "            \n",
        "            result[\"loss\"] = loss\n",
        "            if not batch:\n",
        "                result[\"loss\"] = result[\"loss\"].squeeze(0)\n",
        "            \n",
        "            del loss\n",
        "        \n",
        "        if confidence_threshold is not None:\n",
        "            predictions = nn.functional.sigmoid(logits)\n",
        "            \n",
        "            predicted_tags = [\n",
        "                []\n",
        "                for _ in range(predictions.shape[0])\n",
        "            ]\n",
        "            \n",
        "            for batch_idx, tag_idx in (predictions >= confidence_threshold).nonzero():\n",
        "                predicted_tags[batch_idx].append(tag_idx)\n",
        "            \n",
        "            if not batch:\n",
        "                predicted_tags = predicted_tags[0]\n",
        "            \n",
        "            result[\"predicted_tags\"] = predicted_tags\n",
        "            \n",
        "            del predicted_tags\n",
        "        \n",
        "        return result\n",
        "    \n",
        "    def ensure_device(self) -> None:\n",
        "        \"\"\"\n",
        "        Our trick with the NLPModule opacity doesn't always seem to work, so this forces it\n",
        "        \"\"\"\n",
        "        \n",
        "        self.model[0].submodule.to(self.device)"
      ]
    },
    {
      "cell_type": "code",
      "execution_count": 265,
      "metadata": {
        "id": "r54xvFLLBVTD"
      },
      "outputs": [
        {
          "name": "stderr",
          "output_type": "stream",
          "text": [
            "loading configuration file https://huggingface.co/distilbert-base-uncased/resolve/main/config.json from cache at C:\\Users\\Abel/.cache\\huggingface\\transformers\\23454919702d26495337f3da04d1655c7ee010d5ec9d77bdb9e399e00302c0a1.91b885ab15d631bf9cee9dc9d25ece0afd932f2f5130eba28f2055b2220c0333\n",
            "Model config DistilBertConfig {\n",
            "  \"activation\": \"gelu\",\n",
            "  \"architectures\": [\n",
            "    \"DistilBertForMaskedLM\"\n",
            "  ],\n",
            "  \"attention_dropout\": 0.1,\n",
            "  \"dim\": 768,\n",
            "  \"dropout\": 0.1,\n",
            "  \"hidden_dim\": 3072,\n",
            "  \"initializer_range\": 0.02,\n",
            "  \"max_position_embeddings\": 512,\n",
            "  \"model_type\": \"distilbert\",\n",
            "  \"n_heads\": 12,\n",
            "  \"n_layers\": 6,\n",
            "  \"pad_token_id\": 0,\n",
            "  \"qa_dropout\": 0.1,\n",
            "  \"seq_classif_dropout\": 0.2,\n",
            "  \"sinusoidal_pos_embds\": false,\n",
            "  \"tie_weights_\": true,\n",
            "  \"transformers_version\": \"4.11.3\",\n",
            "  \"vocab_size\": 30522\n",
            "}\n",
            "\n",
            "loading weights file https://huggingface.co/distilbert-base-uncased/resolve/main/pytorch_model.bin from cache at C:\\Users\\Abel/.cache\\huggingface\\transformers\\9c169103d7e5a73936dd2b627e42851bec0831212b677c637033ee4bce9ab5ee.126183e36667471617ae2f0835fab707baa54b731f991507ebbb55ea85adb12a\n",
            "Some weights of the model checkpoint at distilbert-base-uncased were not used when initializing DistilBertModel: ['vocab_projector.weight', 'vocab_layer_norm.weight', 'vocab_layer_norm.bias', 'vocab_transform.weight', 'vocab_transform.bias', 'vocab_projector.bias']\n",
            "- This IS expected if you are initializing DistilBertModel from the checkpoint of a model trained on another task or with another architecture (e.g. initializing a BertForSequenceClassification model from a BertForPreTraining model).\n",
            "- This IS NOT expected if you are initializing DistilBertModel from the checkpoint of a model that you expect to be exactly identical (initializing a BertForSequenceClassification model from a BertForSequenceClassification model).\n",
            "All the weights of DistilBertModel were initialized from the model checkpoint at distilbert-base-uncased.\n",
            "If your task is similar to the task the model of the checkpoint was trained on, you can already use DistilBertModel for predictions without further training.\n"
          ]
        }
      ],
      "source": [
        "model = YCTagPredictorModel(\n",
        "    YCTagPredictorConfig(),\n",
        ")"
      ]
    },
    {
      "cell_type": "code",
      "execution_count": null,
      "metadata": {},
      "outputs": [],
      "source": [
        "model = YCTagPredictorModel.from_pretrained(\"./trained_model\")"
      ]
    },
    {
      "cell_type": "code",
      "execution_count": 266,
      "metadata": {
        "id": "QOWXsY22BVTD"
      },
      "outputs": [
        {
          "name": "stderr",
          "output_type": "stream",
          "text": [
            "[INFO] actual_shape=torch.Size([329]), target_shape=torch.Size([329])\n"
          ]
        }
      ],
      "source": [
        "with localize_globals():\n",
        "    # model.to(device)\n",
        "    # model.ensure_device()\n",
        "    \n",
        "    actual_shape = model(**next(train_dataset.iter(1)))[\"logits\"][0].shape\n",
        "    target_shape = next(iter(train_dataset))[\"tags\"].shape\n",
        "\n",
        "    logging.info(f\"{actual_shape=}, {target_shape=}\")\n",
        "\n",
        "    assert actual_shape == target_shape, \"Bad model result shape\"\n"
      ]
    },
    {
      "cell_type": "markdown",
      "metadata": {
        "id": "lGGcwwWsBVTD"
      },
      "source": [
        "### Model training\n",
        "\n",
        "(Note: may be skipped if you already have a trained model)"
      ]
    },
    {
      "cell_type": "code",
      "execution_count": 267,
      "metadata": {
        "id": "pOFVe3_TBVTD"
      },
      "outputs": [
        {
          "name": "stderr",
          "output_type": "stream",
          "text": [
            "PyTorch: setting up devices\n",
            "The default value for the training argument `--report_to` will change in v5 (from all installed integrations to none). In v5, you will need to use `--report_to all` to get the same behavior as now. You should start updating your code and make this info disappear :-).\n"
          ]
        }
      ],
      "source": [
        "training_args = transformers.TrainingArguments(\n",
        "    output_dir=\"./training_output\",\n",
        "    logging_dir=\"./training_logs\",\n",
        "    label_names=[\"tags\"],\n",
        "    per_device_train_batch_size=8,\n",
        "    per_device_eval_batch_size=8,\n",
        "    remove_unused_columns=False,\n",
        "    num_train_epochs=5,\n",
        "    logging_steps=100,\n",
        "    evaluation_strategy=\"epoch\",\n",
        "    save_strategy=\"epoch\",\n",
        "    do_train=True,\n",
        "    do_eval=True,\n",
        "    dataloader_pin_memory=False,\n",
        ")"
      ]
    },
    {
      "cell_type": "code",
      "execution_count": 268,
      "metadata": {},
      "outputs": [],
      "source": [
        "def compute_metrics(\n",
        "    eval_pred: transformers.trainer_utils.EvalPrediction,\n",
        ") -> dict[str, float]:\n",
        "    logits, labels = map(lambda x: torch.tensor(x, device=device), eval_pred)\n",
        "    predictions = (nn.functional.sigmoid(logits) >= 0.75).float()\n",
        "    \n",
        "    result: dict[str, torch.Tensor] = {}\n",
        "    \n",
        "    result[\"accuracy\"] = (predictions == labels).float().mean().item()\n",
        "    result[\"precision\"] = (predictions * labels).sum().float() / predictions.sum().float()\n",
        "    result[\"recall\"] = (predictions * labels).sum().float() / labels.sum().float()\n",
        "    \n",
        "    # print(f\"!\\n{logits=}\\n{labels=}\\n{predictions=}\\n\")\n",
        "    \n",
        "    # TODO: More?\n",
        "    \n",
        "    return result\n"
      ]
    },
    {
      "cell_type": "code",
      "execution_count": 269,
      "metadata": {
        "id": "gej7zJpkBVTD"
      },
      "outputs": [],
      "source": [
        "trainer: transformers.Trainer = transformers.Trainer(\n",
        "    model=model,\n",
        "    args=training_args,\n",
        "    train_dataset=train_dataset,\n",
        "    eval_dataset=val_dataset,\n",
        "    compute_metrics=compute_metrics,\n",
        ")"
      ]
    },
    {
      "cell_type": "code",
      "execution_count": 302,
      "metadata": {
        "colab": {
          "base_uri": "https://localhost:8080/",
          "height": 507
        },
        "id": "q77f-FzIBVTD",
        "outputId": "e14b585a-7db3-43d7-8dae-35366554d0e5"
      },
      "outputs": [
        {
          "name": "stderr",
          "output_type": "stream",
          "text": [
            "Loading model from ./training_output\\checkpoint-886).\n",
            "***** Running training *****\n",
            "  Num examples = 3538\n",
            "  Num Epochs = 5\n",
            "  Instantaneous batch size per device = 8\n",
            "  Total train batch size (w. parallel, distributed & accumulation) = 8\n",
            "  Gradient Accumulation steps = 1\n",
            "  Total optimization steps = 2215\n",
            "  Continuing training from checkpoint, will skip to saved global_step\n",
            "  Continuing training from epoch 2\n",
            "  Continuing training from global step 886\n",
            "  Will skip the first 2 epochs then the first 0 batches in the first epoch. If this takes a lot of time, you can add the `--ignore_data_skip` flag to your launch command, but you will resume the training on data already seen by your model.\n"
          ]
        },
        {
          "data": {
            "application/vnd.jupyter.widget-view+json": {
              "model_id": "907e09842f024826b8c05818f5d68bfc",
              "version_major": 2,
              "version_minor": 0
            },
            "text/plain": [
              "0it [00:00, ?it/s]"
            ]
          },
          "metadata": {},
          "output_type": "display_data"
        },
        {
          "data": {
            "application/vnd.jupyter.widget-view+json": {
              "model_id": "fb37d93bf5f544ed8f1f361d1f5d1e4c",
              "version_major": 2,
              "version_minor": 0
            },
            "text/plain": [
              "  0%|          | 0/2215 [00:00<?, ?it/s]"
            ]
          },
          "metadata": {},
          "output_type": "display_data"
        },
        {
          "name": "stderr",
          "output_type": "stream",
          "text": [
            "c:\\Program Files\\Python310\\lib\\site-packages\\transformers\\modeling_utils.py:383: UserWarning: Could not estimate the number of tokens of the input, floating-point operations will not be computed\n",
            "  warnings.warn(\n"
          ]
        },
        {
          "name": "stdout",
          "output_type": "stream",
          "text": [
            "{'loss': 0.8731, 'learning_rate': 2.9683972911963887e-05, 'epoch': 2.03}\n",
            "{'loss': 0.8536, 'learning_rate': 2.742663656884876e-05, 'epoch': 2.26}\n",
            "{'loss': 0.8046, 'learning_rate': 2.5169300225733633e-05, 'epoch': 2.48}\n",
            "{'loss': 0.8543, 'learning_rate': 2.291196388261851e-05, 'epoch': 2.71}\n",
            "{'loss': 0.8707, 'learning_rate': 2.0654627539503386e-05, 'epoch': 2.93}\n"
          ]
        },
        {
          "name": "stderr",
          "output_type": "stream",
          "text": [
            "***** Running Evaluation *****\n",
            "  Num examples = 619\n",
            "  Batch size = 8\n"
          ]
        },
        {
          "data": {
            "application/vnd.jupyter.widget-view+json": {
              "model_id": "fb3c9134f7ea460b9df834f774cb7d9d",
              "version_major": 2,
              "version_minor": 0
            },
            "text/plain": [
              "  0%|          | 0/78 [00:00<?, ?it/s]"
            ]
          },
          "metadata": {},
          "output_type": "display_data"
        },
        {
          "name": "stderr",
          "output_type": "stream",
          "text": [
            "Saving model checkpoint to ./training_output\\checkpoint-1329\n",
            "Configuration saved in ./training_output\\checkpoint-1329\\config.json\n",
            "Model weights saved in ./training_output\\checkpoint-1329\\pytorch_model.bin\n"
          ]
        },
        {
          "name": "stdout",
          "output_type": "stream",
          "text": [
            "{'eval_loss': 0.850267231464386, 'eval_accuracy': 0.947650671005249, 'eval_precision': 0.07658116519451141, 'eval_recall': 0.5455145239830017, 'eval_runtime': 21.3889, 'eval_samples_per_second': 28.94, 'eval_steps_per_second': 3.647, 'epoch': 3.0}\n"
          ]
        },
        {
          "name": "stderr",
          "output_type": "stream",
          "text": [
            "c:\\Program Files\\Python310\\lib\\site-packages\\transformers\\modeling_utils.py:383: UserWarning: Could not estimate the number of tokens of the input, floating-point operations will not be computed\n",
            "  warnings.warn(\n"
          ]
        },
        {
          "name": "stdout",
          "output_type": "stream",
          "text": [
            "{'loss': 0.8144, 'learning_rate': 1.8397291196388265e-05, 'epoch': 3.16}\n",
            "{'loss': 0.8281, 'learning_rate': 1.613995485327314e-05, 'epoch': 3.39}\n",
            "{'loss': 0.841, 'learning_rate': 1.3882618510158013e-05, 'epoch': 3.61}\n",
            "{'loss': 0.8282, 'learning_rate': 1.1625282167042891e-05, 'epoch': 3.84}\n"
          ]
        },
        {
          "name": "stderr",
          "output_type": "stream",
          "text": [
            "***** Running Evaluation *****\n",
            "  Num examples = 619\n",
            "  Batch size = 8\n"
          ]
        },
        {
          "data": {
            "application/vnd.jupyter.widget-view+json": {
              "model_id": "2bd3517727964b14ae872f294d5abc84",
              "version_major": 2,
              "version_minor": 0
            },
            "text/plain": [
              "  0%|          | 0/78 [00:00<?, ?it/s]"
            ]
          },
          "metadata": {},
          "output_type": "display_data"
        },
        {
          "name": "stderr",
          "output_type": "stream",
          "text": [
            "Saving model checkpoint to ./training_output\\checkpoint-1772\n",
            "Configuration saved in ./training_output\\checkpoint-1772\\config.json\n",
            "Model weights saved in ./training_output\\checkpoint-1772\\pytorch_model.bin\n"
          ]
        },
        {
          "name": "stdout",
          "output_type": "stream",
          "text": [
            "{'eval_loss': 0.8437275290489197, 'eval_accuracy': 0.9488193392753601, 'eval_precision': 0.07934258878231049, 'eval_recall': 0.5540897250175476, 'eval_runtime': 35.1112, 'eval_samples_per_second': 17.63, 'eval_steps_per_second': 2.222, 'epoch': 4.0}\n"
          ]
        },
        {
          "name": "stderr",
          "output_type": "stream",
          "text": [
            "c:\\Program Files\\Python310\\lib\\site-packages\\transformers\\modeling_utils.py:383: UserWarning: Could not estimate the number of tokens of the input, floating-point operations will not be computed\n",
            "  warnings.warn(\n"
          ]
        },
        {
          "name": "stdout",
          "output_type": "stream",
          "text": [
            "{'loss': 0.8193, 'learning_rate': 9.367945823927766e-06, 'epoch': 4.06}\n",
            "{'loss': 0.8143, 'learning_rate': 7.1106094808126415e-06, 'epoch': 4.29}\n",
            "{'loss': 0.8309, 'learning_rate': 4.853273137697517e-06, 'epoch': 4.51}\n",
            "{'loss': 0.8378, 'learning_rate': 2.5959367945823926e-06, 'epoch': 4.74}\n",
            "{'loss': 0.812, 'learning_rate': 3.386004514672686e-07, 'epoch': 4.97}\n"
          ]
        },
        {
          "name": "stderr",
          "output_type": "stream",
          "text": [
            "***** Running Evaluation *****\n",
            "  Num examples = 619\n",
            "  Batch size = 8\n"
          ]
        },
        {
          "data": {
            "application/vnd.jupyter.widget-view+json": {
              "model_id": "f7ab8ece04b54ff9ae576bccfd98743f",
              "version_major": 2,
              "version_minor": 0
            },
            "text/plain": [
              "  0%|          | 0/78 [00:00<?, ?it/s]"
            ]
          },
          "metadata": {},
          "output_type": "display_data"
        },
        {
          "name": "stderr",
          "output_type": "stream",
          "text": [
            "Saving model checkpoint to ./training_output\\checkpoint-2215\n",
            "Configuration saved in ./training_output\\checkpoint-2215\\config.json\n",
            "Model weights saved in ./training_output\\checkpoint-2215\\pytorch_model.bin\n",
            "\n",
            "\n",
            "Training completed. Do not forget to share your model on huggingface.co/models =)\n",
            "\n",
            "\n"
          ]
        },
        {
          "name": "stdout",
          "output_type": "stream",
          "text": [
            "{'eval_loss': 0.8419126272201538, 'eval_accuracy': 0.9494724273681641, 'eval_precision': 0.08035201579332352, 'eval_recall': 0.5540897250175476, 'eval_runtime': 41.896, 'eval_samples_per_second': 14.775, 'eval_steps_per_second': 1.862, 'epoch': 5.0}\n",
            "{'train_runtime': 584.3984, 'train_samples_per_second': 30.27, 'train_steps_per_second': 3.79, 'train_loss': 0.49874645345098007, 'epoch': 5.0}\n"
          ]
        },
        {
          "data": {
            "text/plain": [
              "TrainOutput(global_step=2215, training_loss=0.49874645345098007, metrics={'train_runtime': 584.3984, 'train_samples_per_second': 30.27, 'train_steps_per_second': 3.79, 'train_loss': 0.49874645345098007, 'epoch': 5.0})"
            ]
          },
          "execution_count": 302,
          "metadata": {},
          "output_type": "execute_result"
        }
      ],
      "source": [
        "trainer.train(resume_from_checkpoint=True)"
      ]
    },
    {
      "cell_type": "code",
      "execution_count": 303,
      "metadata": {},
      "outputs": [
        {
          "name": "stderr",
          "output_type": "stream",
          "text": [
            "***** Running Evaluation *****\n",
            "  Num examples = 619\n",
            "  Batch size = 8\n"
          ]
        },
        {
          "data": {
            "application/vnd.jupyter.widget-view+json": {
              "model_id": "1c74e51dc0fb439eb20a40ea523de134",
              "version_major": 2,
              "version_minor": 0
            },
            "text/plain": [
              "  0%|          | 0/78 [00:00<?, ?it/s]"
            ]
          },
          "metadata": {},
          "output_type": "display_data"
        },
        {
          "data": {
            "text/plain": [
              "{'eval_loss': 0.8419126272201538,\n",
              " 'eval_accuracy': 0.9494724273681641,\n",
              " 'eval_precision': 0.08035201579332352,\n",
              " 'eval_recall': 0.5540897250175476,\n",
              " 'eval_runtime': 47.1096,\n",
              " 'eval_samples_per_second': 13.14,\n",
              " 'eval_steps_per_second': 1.656,\n",
              " 'epoch': 5.0}"
            ]
          },
          "execution_count": 303,
          "metadata": {},
          "output_type": "execute_result"
        }
      ],
      "source": [
        "trainer.evaluate()"
      ]
    },
    {
      "cell_type": "code",
      "execution_count": 304,
      "metadata": {},
      "outputs": [
        {
          "name": "stderr",
          "output_type": "stream",
          "text": [
            "Configuration saved in trained_model\\config.json\n",
            "Model weights saved in trained_model\\pytorch_model.bin\n"
          ]
        }
      ],
      "source": [
        "# Note: it might not save properly, in fact.\n",
        "model.save_pretrained(\"trained_model\")"
      ]
    },
    {
      "cell_type": "markdown",
      "metadata": {},
      "source": [
        "### Inference\n",
        "\n",
        "(Note: may be skipped if you already have data_with_predictions)"
      ]
    },
    {
      "cell_type": "code",
      "execution_count": 305,
      "metadata": {},
      "outputs": [
        {
          "name": "stdout",
          "output_type": "stream",
          "text": [
            "Company: Fobo\n",
            "Predicted:\n",
            "2                           AI\n",
            "19                   Analytics\n",
            "23     Artificial Intelligence\n",
            "31                         B2B\n",
            "60                     Climate\n",
            "73                    Consumer\n",
            "111            Developer Tools\n",
            "121                 E-commerce\n",
            "124                  Education\n",
            "141                    Fintech\n",
            "155              Generative AI\n",
            "201           Machine Learning\n",
            "206                Marketplace\n",
            "237                   Payments\n",
            "273                       SaaS\n",
            "dtype: object\n",
            "Actual:\n",
            "120        E-Commerce\n",
            "198    Location-based\n",
            "dtype: object\n",
            "Loss: 1.5809268951416016\n",
            "\n",
            "Company: Skysheet\n",
            "Predicted:\n",
            "2                           AI\n",
            "7                          API\n",
            "19                   Analytics\n",
            "23     Artificial Intelligence\n",
            "31                         B2B\n",
            "60                     Climate\n",
            "73                    Consumer\n",
            "83               Crypto / Web3\n",
            "111            Developer Tools\n",
            "121                 E-commerce\n",
            "124                  Education\n",
            "132                 Enterprise\n",
            "141                    Fintech\n",
            "155              Generative AI\n",
            "201           Machine Learning\n",
            "206                Marketplace\n",
            "235                Open Source\n",
            "237                   Payments\n",
            "246               Productivity\n",
            "273                       SaaS\n",
            "dtype: object\n",
            "Actual:\n",
            "246    Productivity\n",
            "dtype: object\n",
            "Loss: 0.48855555057525635\n",
            "\n",
            "Company: Onebrief\n",
            "Predicted:\n",
            "2                           AI\n",
            "7                          API\n",
            "19                   Analytics\n",
            "23     Artificial Intelligence\n",
            "31                         B2B\n",
            "60                     Climate\n",
            "111            Developer Tools\n",
            "121                 E-commerce\n",
            "124                  Education\n",
            "141                    Fintech\n",
            "155              Generative AI\n",
            "201           Machine Learning\n",
            "206                Marketplace\n",
            "237                   Payments\n",
            "246               Productivity\n",
            "273                       SaaS\n",
            "dtype: object\n",
            "Actual:\n",
            "160    GovTech\n",
            "273       SaaS\n",
            "dtype: object\n",
            "Loss: 0.6995291709899902\n",
            "\n",
            "Company: voize\n",
            "Predicted:\n",
            "2                           AI\n",
            "7                          API\n",
            "19                   Analytics\n",
            "23     Artificial Intelligence\n",
            "31                         B2B\n",
            "60                     Climate\n",
            "73                    Consumer\n",
            "111            Developer Tools\n",
            "121                 E-commerce\n",
            "124                  Education\n",
            "141                    Fintech\n",
            "155              Generative AI\n",
            "168                Health Tech\n",
            "169                 Healthcare\n",
            "201           Machine Learning\n",
            "206                Marketplace\n",
            "235                Open Source\n",
            "237                   Payments\n",
            "246               Productivity\n",
            "273                       SaaS\n",
            "dtype: object\n",
            "Actual:\n",
            "169    Healthcare\n",
            "dtype: object\n",
            "Loss: 0.4938928782939911\n",
            "\n",
            "Company: Santé\n",
            "Predicted:\n",
            "2                           AI\n",
            "23     Artificial Intelligence\n",
            "31                         B2B\n",
            "60                     Climate\n",
            "73                    Consumer\n",
            "111            Developer Tools\n",
            "121                 E-commerce\n",
            "124                  Education\n",
            "141                    Fintech\n",
            "206                Marketplace\n",
            "273                       SaaS\n",
            "dtype: object\n",
            "Actual:\n",
            "31         B2B\n",
            "141    Fintech\n",
            "262     Retail\n",
            "273       SaaS\n",
            "dtype: object\n",
            "Loss: 0.7751510739326477\n",
            "\n"
          ]
        }
      ],
      "source": [
        "with localize_globals():\n",
        "    for batch in itertools.islice(train_dataset, 5):\n",
        "        result: dict[str, typing.Any] = model(**batch, batch=False, confidence_threshold=0.75)\n",
        "        \n",
        "        # print(result)\n",
        "        \n",
        "        pred_tags_idxs: list[int] = [\n",
        "            i.item() for i in result[\"predicted_tags\"]\n",
        "        ]\n",
        "        true_tags_idxs: list[int] = (batch[\"tags\"] == 1).nonzero()[:, 0].tolist()\n",
        "        \n",
        "        # print(true_tags_idxs)\n",
        "        # print(pred_tags_idxs)\n",
        "        # print(result[\"logits\"][batch[\"tags\"] == 1])\n",
        "        \n",
        "        pred_tags: pd.Series = all_tags[pred_tags_idxs]\n",
        "        actual_tags: pd.Series = all_tags[true_tags_idxs]\n",
        "        \n",
        "        name: str = data.at[batch[\"orig_idx\"].item(), \"name\"]\n",
        "        \n",
        "        print(f\"Company: {name}\")\n",
        "        print(f\"Predicted:\\n{pred_tags}\")\n",
        "        print(f\"Actual:\\n{actual_tags}\")\n",
        "        print(f\"Loss: {result['loss']}\")\n",
        "        print()\n",
        "        \n",
        "        # break"
      ]
    },
    {
      "cell_type": "code",
      "execution_count": 306,
      "metadata": {},
      "outputs": [
        {
          "data": {
            "text/html": [
              "<div>\n",
              "<style scoped>\n",
              "    .dataframe tbody tr th:only-of-type {\n",
              "        vertical-align: middle;\n",
              "    }\n",
              "\n",
              "    .dataframe tbody tr th {\n",
              "        vertical-align: top;\n",
              "    }\n",
              "\n",
              "    .dataframe thead th {\n",
              "        text-align: right;\n",
              "    }\n",
              "</style>\n",
              "<table border=\"1\" class=\"dataframe\">\n",
              "  <thead>\n",
              "    <tr style=\"text-align: right;\">\n",
              "      <th></th>\n",
              "      <th>name</th>\n",
              "      <th>one_liner</th>\n",
              "      <th>long_description</th>\n",
              "      <th>tags</th>\n",
              "      <th>predicted_tags</th>\n",
              "    </tr>\n",
              "  </thead>\n",
              "  <tbody>\n",
              "    <tr>\n",
              "      <th>0</th>\n",
              "      <td>Wufoo</td>\n",
              "      <td>Online form builder.</td>\n",
              "      <td>Wufoo is a web application that helps anybody ...</td>\n",
              "      <td>[SaaS, Productivity]</td>\n",
              "      <td>[]</td>\n",
              "    </tr>\n",
              "    <tr>\n",
              "      <th>1</th>\n",
              "      <td>Project Wedding</td>\n",
              "      <td></td>\n",
              "      <td>Finding wedding vendors is hard. In 2007, a co...</td>\n",
              "      <td>[]</td>\n",
              "      <td>[]</td>\n",
              "    </tr>\n",
              "    <tr>\n",
              "      <th>2</th>\n",
              "      <td>Clustrix</td>\n",
              "      <td></td>\n",
              "      <td>Clustrix provides the leading scale-out relati...</td>\n",
              "      <td>[]</td>\n",
              "      <td>[]</td>\n",
              "    </tr>\n",
              "    <tr>\n",
              "      <th>3</th>\n",
              "      <td>Inkling</td>\n",
              "      <td></td>\n",
              "      <td>Inkling, based in Chicago, Illinois, offers co...</td>\n",
              "      <td>[]</td>\n",
              "      <td>[]</td>\n",
              "    </tr>\n",
              "    <tr>\n",
              "      <th>4</th>\n",
              "      <td>Audiobeta</td>\n",
              "      <td></td>\n",
              "      <td>AudioBeta develops web-based applications that...</td>\n",
              "      <td>[]</td>\n",
              "      <td>[]</td>\n",
              "    </tr>\n",
              "    <tr>\n",
              "      <th>...</th>\n",
              "      <td>...</td>\n",
              "      <td>...</td>\n",
              "      <td>...</td>\n",
              "      <td>...</td>\n",
              "      <td>...</td>\n",
              "    </tr>\n",
              "    <tr>\n",
              "      <th>4418</th>\n",
              "      <td>Assembled</td>\n",
              "      <td>Pivoted to TenXList, a professional network of...</td>\n",
              "      <td></td>\n",
              "      <td>[Education, Recruiting]</td>\n",
              "      <td>[]</td>\n",
              "    </tr>\n",
              "    <tr>\n",
              "      <th>4419</th>\n",
              "      <td>TellFi</td>\n",
              "      <td>Google Voice for business.</td>\n",
              "      <td>Fastest, easiest way to setup a phone system f...</td>\n",
              "      <td>[Messaging, Enterprise]</td>\n",
              "      <td>[]</td>\n",
              "    </tr>\n",
              "    <tr>\n",
              "      <th>4420</th>\n",
              "      <td>Beetailer</td>\n",
              "      <td>Facebook stores.</td>\n",
              "      <td>Beetailer. Your online store in Facebook\\r\\n\\r...</td>\n",
              "      <td>[E-Commerce, Retail]</td>\n",
              "      <td>[]</td>\n",
              "    </tr>\n",
              "    <tr>\n",
              "      <th>4421</th>\n",
              "      <td>Inporia</td>\n",
              "      <td>Fashion shopping email list.</td>\n",
              "      <td>Inporia's current product is Kaleidoscope - a ...</td>\n",
              "      <td>[E-Commerce, Retail, Fashion]</td>\n",
              "      <td>[]</td>\n",
              "    </tr>\n",
              "    <tr>\n",
              "      <th>4422</th>\n",
              "      <td>Userfox</td>\n",
              "      <td>User retention as a service.  Drip email</td>\n",
              "      <td>userfox is a SaaS product that helps companies...</td>\n",
              "      <td>[SaaS, Marketing]</td>\n",
              "      <td>[]</td>\n",
              "    </tr>\n",
              "  </tbody>\n",
              "</table>\n",
              "<p>4423 rows × 5 columns</p>\n",
              "</div>"
            ],
            "text/plain": [
              "                 name                                          one_liner  \\\n",
              "0               Wufoo                               Online form builder.   \n",
              "1     Project Wedding                                                      \n",
              "2            Clustrix                                                      \n",
              "3             Inkling                                                      \n",
              "4           Audiobeta                                                      \n",
              "...               ...                                                ...   \n",
              "4418        Assembled  Pivoted to TenXList, a professional network of...   \n",
              "4419           TellFi                         Google Voice for business.   \n",
              "4420        Beetailer                                   Facebook stores.   \n",
              "4421          Inporia                       Fashion shopping email list.   \n",
              "4422          Userfox           User retention as a service.  Drip email   \n",
              "\n",
              "                                       long_description  \\\n",
              "0     Wufoo is a web application that helps anybody ...   \n",
              "1     Finding wedding vendors is hard. In 2007, a co...   \n",
              "2     Clustrix provides the leading scale-out relati...   \n",
              "3     Inkling, based in Chicago, Illinois, offers co...   \n",
              "4     AudioBeta develops web-based applications that...   \n",
              "...                                                 ...   \n",
              "4418                                                      \n",
              "4419  Fastest, easiest way to setup a phone system f...   \n",
              "4420  Beetailer. Your online store in Facebook\\r\\n\\r...   \n",
              "4421  Inporia's current product is Kaleidoscope - a ...   \n",
              "4422  userfox is a SaaS product that helps companies...   \n",
              "\n",
              "                               tags predicted_tags  \n",
              "0              [SaaS, Productivity]             []  \n",
              "1                                []             []  \n",
              "2                                []             []  \n",
              "3                                []             []  \n",
              "4                                []             []  \n",
              "...                             ...            ...  \n",
              "4418        [Education, Recruiting]             []  \n",
              "4419        [Messaging, Enterprise]             []  \n",
              "4420           [E-Commerce, Retail]             []  \n",
              "4421  [E-Commerce, Retail, Fashion]             []  \n",
              "4422              [SaaS, Marketing]             []  \n",
              "\n",
              "[4423 rows x 5 columns]"
            ]
          },
          "execution_count": 306,
          "metadata": {},
          "output_type": "execute_result"
        }
      ],
      "source": [
        "data_with_predictions = data.assign(\n",
        "    predicted_tags=[[] for _ in range(len(data))],\n",
        ")\n",
        "\n",
        "data_with_predictions\n"
      ]
    },
    {
      "cell_type": "code",
      "execution_count": 307,
      "metadata": {},
      "outputs": [
        {
          "name": "stderr",
          "output_type": "stream",
          "text": [
            "100%|██████████| 4423/4423 [02:13<00:00, 33.06it/s]\n"
          ]
        }
      ],
      "source": [
        "with localize_globals(\"data_with_predictions\"):\n",
        "    for row in tqdm.tqdm(complete_dataset):\n",
        "        i = row[\"orig_idx\"].item()\n",
        "        \n",
        "        result = model(**row, batch=False, confidence_threshold=0.75)\n",
        "        predicted_tags: list[int] = [\n",
        "            i.item() for i in result[\"predicted_tags\"]\n",
        "        ]\n",
        "        \n",
        "        data_with_predictions.at[i, \"predicted_tags\"] = predicted_tags\n"
      ]
    },
    {
      "cell_type": "code",
      "execution_count": 308,
      "metadata": {},
      "outputs": [],
      "source": [
        "data_with_predictions[\"predicted_tags\"] = data_with_predictions[\"predicted_tags\"].apply(\n",
        "    lambda x: list(all_tags[x])\n",
        ")"
      ]
    },
    {
      "cell_type": "code",
      "execution_count": 309,
      "metadata": {},
      "outputs": [
        {
          "data": {
            "text/plain": [
              "['SaaS', 'Productivity']"
            ]
          },
          "execution_count": 309,
          "metadata": {},
          "output_type": "execute_result"
        }
      ],
      "source": [
        "data_with_predictions.at[0, \"tags\"]"
      ]
    },
    {
      "cell_type": "code",
      "execution_count": 310,
      "metadata": {},
      "outputs": [
        {
          "data": {
            "text/plain": [
              "['AI',\n",
              " 'API',\n",
              " 'Analytics',\n",
              " 'Artificial Intelligence',\n",
              " 'B2B',\n",
              " 'Consumer',\n",
              " 'Developer Tools',\n",
              " 'E-commerce',\n",
              " 'Education',\n",
              " 'Fintech',\n",
              " 'Generative AI',\n",
              " 'Machine Learning',\n",
              " 'Marketplace',\n",
              " 'Open Source',\n",
              " 'Payments',\n",
              " 'Productivity',\n",
              " 'SaaS']"
            ]
          },
          "execution_count": 310,
          "metadata": {},
          "output_type": "execute_result"
        }
      ],
      "source": [
        "\n",
        "data_with_predictions.at[0, \"predicted_tags\"]"
      ]
    },
    {
      "cell_type": "code",
      "execution_count": 311,
      "metadata": {},
      "outputs": [],
      "source": [
        "data_with_predictions.to_csv(\"data_with_predictions.csv\")"
      ]
    },
    {
      "cell_type": "code",
      "execution_count": 312,
      "metadata": {},
      "outputs": [
        {
          "data": {
            "text/html": [
              "<div>\n",
              "<style scoped>\n",
              "    .dataframe tbody tr th:only-of-type {\n",
              "        vertical-align: middle;\n",
              "    }\n",
              "\n",
              "    .dataframe tbody tr th {\n",
              "        vertical-align: top;\n",
              "    }\n",
              "\n",
              "    .dataframe thead th {\n",
              "        text-align: right;\n",
              "    }\n",
              "</style>\n",
              "<table border=\"1\" class=\"dataframe\">\n",
              "  <thead>\n",
              "    <tr style=\"text-align: right;\">\n",
              "      <th></th>\n",
              "      <th>name</th>\n",
              "      <th>one_liner</th>\n",
              "      <th>long_description</th>\n",
              "      <th>tags</th>\n",
              "      <th>predicted_tags</th>\n",
              "    </tr>\n",
              "  </thead>\n",
              "  <tbody>\n",
              "    <tr>\n",
              "      <th>0</th>\n",
              "      <td>Wufoo</td>\n",
              "      <td>Online form builder.</td>\n",
              "      <td>Wufoo is a web application that helps anybody ...</td>\n",
              "      <td>[SaaS, Productivity]</td>\n",
              "      <td>[AI, API, Analytics, Artificial Intelligence, ...</td>\n",
              "    </tr>\n",
              "    <tr>\n",
              "      <th>1</th>\n",
              "      <td>Project Wedding</td>\n",
              "      <td></td>\n",
              "      <td>Finding wedding vendors is hard. In 2007, a co...</td>\n",
              "      <td>[]</td>\n",
              "      <td>[AI, Artificial Intelligence, B2B, Consumer, D...</td>\n",
              "    </tr>\n",
              "    <tr>\n",
              "      <th>2</th>\n",
              "      <td>Clustrix</td>\n",
              "      <td></td>\n",
              "      <td>Clustrix provides the leading scale-out relati...</td>\n",
              "      <td>[]</td>\n",
              "      <td>[AI, API, Analytics, Artificial Intelligence, ...</td>\n",
              "    </tr>\n",
              "    <tr>\n",
              "      <th>3</th>\n",
              "      <td>Inkling</td>\n",
              "      <td></td>\n",
              "      <td>Inkling, based in Chicago, Illinois, offers co...</td>\n",
              "      <td>[]</td>\n",
              "      <td>[AI, API, Analytics, Artificial Intelligence, ...</td>\n",
              "    </tr>\n",
              "    <tr>\n",
              "      <th>4</th>\n",
              "      <td>Audiobeta</td>\n",
              "      <td></td>\n",
              "      <td>AudioBeta develops web-based applications that...</td>\n",
              "      <td>[]</td>\n",
              "      <td>[AI, Artificial Intelligence, B2B, Consumer, D...</td>\n",
              "    </tr>\n",
              "    <tr>\n",
              "      <th>...</th>\n",
              "      <td>...</td>\n",
              "      <td>...</td>\n",
              "      <td>...</td>\n",
              "      <td>...</td>\n",
              "      <td>...</td>\n",
              "    </tr>\n",
              "    <tr>\n",
              "      <th>4418</th>\n",
              "      <td>Assembled</td>\n",
              "      <td>Pivoted to TenXList, a professional network of...</td>\n",
              "      <td></td>\n",
              "      <td>[Education, Recruiting]</td>\n",
              "      <td>[AI, Artificial Intelligence, B2B, Consumer, D...</td>\n",
              "    </tr>\n",
              "    <tr>\n",
              "      <th>4419</th>\n",
              "      <td>TellFi</td>\n",
              "      <td>Google Voice for business.</td>\n",
              "      <td>Fastest, easiest way to setup a phone system f...</td>\n",
              "      <td>[Messaging, Enterprise]</td>\n",
              "      <td>[AI, Analytics, Artificial Intelligence, B2B, ...</td>\n",
              "    </tr>\n",
              "    <tr>\n",
              "      <th>4420</th>\n",
              "      <td>Beetailer</td>\n",
              "      <td>Facebook stores.</td>\n",
              "      <td>Beetailer. Your online store in Facebook\\r\\n\\r...</td>\n",
              "      <td>[E-Commerce, Retail]</td>\n",
              "      <td>[AI, Analytics, Artificial Intelligence, B2B, ...</td>\n",
              "    </tr>\n",
              "    <tr>\n",
              "      <th>4421</th>\n",
              "      <td>Inporia</td>\n",
              "      <td>Fashion shopping email list.</td>\n",
              "      <td>Inporia's current product is Kaleidoscope - a ...</td>\n",
              "      <td>[E-Commerce, Retail, Fashion]</td>\n",
              "      <td>[AI, Analytics, Artificial Intelligence, B2B, ...</td>\n",
              "    </tr>\n",
              "    <tr>\n",
              "      <th>4422</th>\n",
              "      <td>Userfox</td>\n",
              "      <td>User retention as a service.  Drip email</td>\n",
              "      <td>userfox is a SaaS product that helps companies...</td>\n",
              "      <td>[SaaS, Marketing]</td>\n",
              "      <td>[AI, API, Analytics, Artificial Intelligence, ...</td>\n",
              "    </tr>\n",
              "  </tbody>\n",
              "</table>\n",
              "<p>4423 rows × 5 columns</p>\n",
              "</div>"
            ],
            "text/plain": [
              "                 name                                          one_liner  \\\n",
              "0               Wufoo                               Online form builder.   \n",
              "1     Project Wedding                                                      \n",
              "2            Clustrix                                                      \n",
              "3             Inkling                                                      \n",
              "4           Audiobeta                                                      \n",
              "...               ...                                                ...   \n",
              "4418        Assembled  Pivoted to TenXList, a professional network of...   \n",
              "4419           TellFi                         Google Voice for business.   \n",
              "4420        Beetailer                                   Facebook stores.   \n",
              "4421          Inporia                       Fashion shopping email list.   \n",
              "4422          Userfox           User retention as a service.  Drip email   \n",
              "\n",
              "                                       long_description  \\\n",
              "0     Wufoo is a web application that helps anybody ...   \n",
              "1     Finding wedding vendors is hard. In 2007, a co...   \n",
              "2     Clustrix provides the leading scale-out relati...   \n",
              "3     Inkling, based in Chicago, Illinois, offers co...   \n",
              "4     AudioBeta develops web-based applications that...   \n",
              "...                                                 ...   \n",
              "4418                                                      \n",
              "4419  Fastest, easiest way to setup a phone system f...   \n",
              "4420  Beetailer. Your online store in Facebook\\r\\n\\r...   \n",
              "4421  Inporia's current product is Kaleidoscope - a ...   \n",
              "4422  userfox is a SaaS product that helps companies...   \n",
              "\n",
              "                               tags  \\\n",
              "0              [SaaS, Productivity]   \n",
              "1                                []   \n",
              "2                                []   \n",
              "3                                []   \n",
              "4                                []   \n",
              "...                             ...   \n",
              "4418        [Education, Recruiting]   \n",
              "4419        [Messaging, Enterprise]   \n",
              "4420           [E-Commerce, Retail]   \n",
              "4421  [E-Commerce, Retail, Fashion]   \n",
              "4422              [SaaS, Marketing]   \n",
              "\n",
              "                                         predicted_tags  \n",
              "0     [AI, API, Analytics, Artificial Intelligence, ...  \n",
              "1     [AI, Artificial Intelligence, B2B, Consumer, D...  \n",
              "2     [AI, API, Analytics, Artificial Intelligence, ...  \n",
              "3     [AI, API, Analytics, Artificial Intelligence, ...  \n",
              "4     [AI, Artificial Intelligence, B2B, Consumer, D...  \n",
              "...                                                 ...  \n",
              "4418  [AI, Artificial Intelligence, B2B, Consumer, D...  \n",
              "4419  [AI, Analytics, Artificial Intelligence, B2B, ...  \n",
              "4420  [AI, Analytics, Artificial Intelligence, B2B, ...  \n",
              "4421  [AI, Analytics, Artificial Intelligence, B2B, ...  \n",
              "4422  [AI, API, Analytics, Artificial Intelligence, ...  \n",
              "\n",
              "[4423 rows x 5 columns]"
            ]
          },
          "execution_count": 312,
          "metadata": {},
          "output_type": "execute_result"
        }
      ],
      "source": [
        "data_with_predictions = pd.read_csv(\"data_with_predictions.csv\", index_col=0)\n",
        "\n",
        "data_with_predictions[\"tags\"] = data_with_predictions[\"tags\"].apply(literal_eval)\n",
        "data_with_predictions[\"predicted_tags\"] = data_with_predictions[\"predicted_tags\"].apply(literal_eval)\n",
        "\n",
        "data_with_predictions[\"one_liner\"].replace(\n",
        "    to_replace=np.nan,\n",
        "    value=\"\",\n",
        "    inplace=True,\n",
        ")\n",
        "\n",
        "data_with_predictions[\"long_description\"].replace(\n",
        "    to_replace=np.nan,\n",
        "    value=\"\",\n",
        "    inplace=True,\n",
        ")\n",
        "\n",
        "data_with_predictions\n"
      ]
    },
    {
      "cell_type": "markdown",
      "metadata": {},
      "source": [
        "### Analysis"
      ]
    },
    {
      "cell_type": "code",
      "execution_count": 313,
      "metadata": {},
      "outputs": [],
      "source": [
        "from collections import Counter"
      ]
    },
    {
      "cell_type": "code",
      "execution_count": 314,
      "metadata": {},
      "outputs": [],
      "source": [
        "real_tag_frequencies = Counter(data[\"tags\"].sum())\n",
        "pred_tag_frequencies = Counter(data_with_predictions[\"predicted_tags\"].sum())"
      ]
    },
    {
      "cell_type": "code",
      "execution_count": 315,
      "metadata": {},
      "outputs": [
        {
          "data": {
            "text/plain": [
              "[('SaaS', 968),\n",
              " ('B2B', 824),\n",
              " ('Fintech', 657),\n",
              " ('Developer Tools', 403),\n",
              " ('Artificial Intelligence', 372),\n",
              " ('Marketplace', 317),\n",
              " ('AI', 214),\n",
              " ('Machine Learning', 209),\n",
              " ('E-commerce', 175),\n",
              " ('Education', 166),\n",
              " ('Analytics', 157),\n",
              " ('Generative AI', 156),\n",
              " ('Climate', 147),\n",
              " ('Consumer', 142),\n",
              " ('Healthcare', 134),\n",
              " ('Open Source', 132),\n",
              " ('Payments', 130),\n",
              " ('API', 128),\n",
              " ('Health Tech', 125),\n",
              " ('Productivity', 114)]"
            ]
          },
          "execution_count": 315,
          "metadata": {},
          "output_type": "execute_result"
        }
      ],
      "source": [
        "real_tag_frequencies.most_common(20)"
      ]
    },
    {
      "cell_type": "code",
      "execution_count": 316,
      "metadata": {},
      "outputs": [
        {
          "data": {
            "text/plain": [
              "[('Artificial Intelligence', 4369),\n",
              " ('B2B', 4369),\n",
              " ('Fintech', 4369),\n",
              " ('Marketplace', 4369),\n",
              " ('SaaS', 4369),\n",
              " ('Developer Tools', 4313),\n",
              " ('AI', 4305),\n",
              " ('Machine Learning', 4260),\n",
              " ('E-commerce', 4192),\n",
              " ('Education', 4121),\n",
              " ('Consumer', 3880),\n",
              " ('Generative AI', 3659),\n",
              " ('Payments', 3655),\n",
              " ('Analytics', 3539),\n",
              " ('Climate', 3177),\n",
              " ('API', 2257),\n",
              " ('Healthcare', 2112),\n",
              " ('Enterprise', 1436),\n",
              " ('Productivity', 1359),\n",
              " ('Health Tech', 1218)]"
            ]
          },
          "execution_count": 316,
          "metadata": {},
          "output_type": "execute_result"
        }
      ],
      "source": [
        "pred_tag_frequencies.most_common(20)"
      ]
    },
    {
      "cell_type": "markdown",
      "metadata": {},
      "source": [
        "Apparently, the cutoff of 80% certainty has been too low "
      ]
    },
    {
      "cell_type": "code",
      "execution_count": 317,
      "metadata": {},
      "outputs": [
        {
          "data": {
            "image/png": "[encoded data removed]",
            "text/plain": [
              "<Figure size 1200x800 with 1 Axes>"
            ]
          },
          "metadata": {},
          "output_type": "display_data"
        }
      ],
      "source": [
        "with localize_globals():\n",
        "    fig, ax = plt.subplots(figsize=(12, 8))\n",
        "    \n",
        "    for label, counter in (\n",
        "        (\"Real\", real_tag_frequencies),\n",
        "        (\"Predicted\", pred_tag_frequencies),\n",
        "    ):\n",
        "        n: typing.Final[int] = 25\n",
        "        \n",
        "        top_n: list[tuple[str, int]] = counter.most_common(n)\n",
        "        \n",
        "        x, y = zip(*top_n)\n",
        "        \n",
        "        ax.barh(x, y, label=label, alpha=0.6)\n",
        "    \n",
        "    ax.legend()\n"
      ]
    },
    {
      "cell_type": "code",
      "execution_count": 318,
      "metadata": {},
      "outputs": [
        {
          "data": {
            "image/png": "[encoded data removed]",
            "text/plain": [
              "<Figure size 1200x800 with 1 Axes>"
            ]
          },
          "metadata": {},
          "output_type": "display_data"
        }
      ],
      "source": [
        "with localize_globals():\n",
        "    fig, ax = plt.subplots(figsize=(12, 8))\n",
        "    \n",
        "    for label, counter in (\n",
        "        (\"Real\", real_tag_frequencies),\n",
        "        (\"Predicted\", pred_tag_frequencies),\n",
        "    ):\n",
        "        top_n: list[tuple[str, int]] = list(itertools.islice(counter.most_common(100), 25, 50))\n",
        "        \n",
        "        x, y = zip(*top_n)\n",
        "        \n",
        "        ax.barh(x, y, label=label, alpha=0.6)\n",
        "    \n",
        "    ax.legend()"
      ]
    },
    {
      "cell_type": "markdown",
      "metadata": {},
      "source": [
        "// TODO: Sort tags by delta frequency (the magnitude of error)"
      ]
    },
    {
      "cell_type": "code",
      "execution_count": 321,
      "metadata": {},
      "outputs": [
        {
          "data": {
            "text/plain": [
              "[('Security', -0.25),\n",
              " ('Medical Devices', -0.2878787878787879),\n",
              " ('Gaming', -0.6493506493506493),\n",
              " ('Logistics', -0.7872340425531915),\n",
              " ('Video', -0.8939393939393939),\n",
              " ('Sales', -0.9242424242424242),\n",
              " ('Digital Health', -0.935064935064935),\n",
              " ('Hard Tech', -0.95),\n",
              " ('Robotics', -0.9811320754716981),\n",
              " ('Recruiting', -0.9814814814814815),\n",
              " ('Media', -1.0),\n",
              " ('ML', -1.0),\n",
              " ('Email', -1.0),\n",
              " ('Social', -1.0),\n",
              " ('E-Commerce', -1.0),\n",
              " ('Music', -1.0),\n",
              " ('LegalTech', -1.0),\n",
              " ('eLearning', -1.0),\n",
              " ('DevSecOps', -1.0),\n",
              " ('Next-gen Network Security', -1.0)]"
            ]
          },
          "execution_count": 321,
          "metadata": {},
          "output_type": "execute_result"
        }
      ],
      "source": [
        "with localize_globals(\"delta_counter\"):\n",
        "    delta_counter = Counter(data[\"tags\"].sum())\n",
        "\n",
        "    for tag in data_with_predictions[\"predicted_tags\"].sum():\n",
        "        delta_counter[tag] -= 1\n",
        "\n",
        "    for tag in delta_counter:\n",
        "        delta_counter[tag] = -abs(delta_counter[tag]) / real_tag_frequencies[tag]\n",
        "\n",
        "delta_counter.most_common(20)\n"
      ]
    },
    {
      "cell_type": "code",
      "execution_count": 325,
      "metadata": {},
      "outputs": [
        {
          "data": {
            "image/png": "[encoded data removed]",
            "text/plain": [
              "<Figure size 1200x800 with 1 Axes>"
            ]
          },
          "metadata": {},
          "output_type": "display_data"
        }
      ],
      "source": [
        "with localize_globals():\n",
        "    fig, ax = plt.subplots(figsize=(12, 8))\n",
        "\n",
        "    top_n: list[tuple[str, int]] = delta_counter.most_common(20)\n",
        "    \n",
        "    x, y = zip(*top_n)\n",
        "    \n",
        "    ax.barh(x, -np.array(y))"
      ]
    }
  ],
  "metadata": {
    "accelerator": "GPU",
    "colab": {
      "gpuType": "T4",
      "provenance": []
    },
    "kernelspec": {
      "display_name": "Python 3",
      "name": "python3"
    },
    "language_info": {
      "codemirror_mode": {
        "name": "ipython",
        "version": 3
      },
      "file_extension": ".py",
      "mimetype": "text/x-python",
      "name": "python",
      "nbconvert_exporter": "python",
      "pygments_lexer": "ipython3",
      "version": "3.10.0"
    },
    "widgets": {
      "application/vnd.jupyter.widget-state+json": {
        "021770ef8908442bb593722adcd2488f": {
          "model_module": "@jupyter-widgets/controls",
          "model_module_version": "1.5.0",
          "model_name": "FloatProgressModel",
          "state": {
            "_dom_classes": [],
            "_model_module": "@jupyter-widgets/controls",
            "_model_module_version": "1.5.0",
            "_model_name": "FloatProgressModel",
            "_view_count": null,
            "_view_module": "@jupyter-widgets/controls",
            "_view_module_version": "1.5.0",
            "_view_name": "ProgressView",
            "bar_style": "success",
            "description": "",
            "description_tooltip": null,
            "layout": "IPY_MODEL_415f148f153c4ab39d60adea6dcca026",
            "max": 28,
            "min": 0,
            "orientation": "horizontal",
            "style": "IPY_MODEL_b37fc9745e2f4624825f1e42a205ca38",
            "value": 28
          }
        },
        "0c04cb5fdddd489794bd88921154330b": {
          "model_module": "@jupyter-widgets/base",
          "model_module_version": "1.2.0",
          "model_name": "LayoutModel",
          "state": {
            "_model_module": "@jupyter-widgets/base",
            "_model_module_version": "1.2.0",
            "_model_name": "LayoutModel",
            "_view_count": null,
            "_view_module": "@jupyter-widgets/base",
            "_view_module_version": "1.2.0",
            "_view_name": "LayoutView",
            "align_content": null,
            "align_items": null,
            "align_self": null,
            "border": null,
            "bottom": null,
            "display": null,
            "flex": null,
            "flex_flow": null,
            "grid_area": null,
            "grid_auto_columns": null,
            "grid_auto_flow": null,
            "grid_auto_rows": null,
            "grid_column": null,
            "grid_gap": null,
            "grid_row": null,
            "grid_template_areas": null,
            "grid_template_columns": null,
            "grid_template_rows": null,
            "height": null,
            "justify_content": null,
            "justify_items": null,
            "left": null,
            "margin": null,
            "max_height": null,
            "max_width": null,
            "min_height": null,
            "min_width": null,
            "object_fit": null,
            "object_position": null,
            "order": null,
            "overflow": null,
            "overflow_x": null,
            "overflow_y": null,
            "padding": null,
            "right": null,
            "top": null,
            "visibility": null,
            "width": null
          }
        },
        "13414e20a34441a29916bf3837bc0d69": {
          "model_module": "@jupyter-widgets/base",
          "model_module_version": "1.2.0",
          "model_name": "LayoutModel",
          "state": {
            "_model_module": "@jupyter-widgets/base",
            "_model_module_version": "1.2.0",
            "_model_name": "LayoutModel",
            "_view_count": null,
            "_view_module": "@jupyter-widgets/base",
            "_view_module_version": "1.2.0",
            "_view_name": "LayoutView",
            "align_content": null,
            "align_items": null,
            "align_self": null,
            "border": null,
            "bottom": null,
            "display": null,
            "flex": null,
            "flex_flow": null,
            "grid_area": null,
            "grid_auto_columns": null,
            "grid_auto_flow": null,
            "grid_auto_rows": null,
            "grid_column": null,
            "grid_gap": null,
            "grid_row": null,
            "grid_template_areas": null,
            "grid_template_columns": null,
            "grid_template_rows": null,
            "height": null,
            "justify_content": null,
            "justify_items": null,
            "left": null,
            "margin": null,
            "max_height": null,
            "max_width": null,
            "min_height": null,
            "min_width": null,
            "object_fit": null,
            "object_position": null,
            "order": null,
            "overflow": null,
            "overflow_x": null,
            "overflow_y": null,
            "padding": null,
            "right": null,
            "top": null,
            "visibility": null,
            "width": null
          }
        },
        "13852c2a84e14394855f3c91dbeac7c6": {
          "model_module": "@jupyter-widgets/controls",
          "model_module_version": "1.5.0",
          "model_name": "DescriptionStyleModel",
          "state": {
            "_model_module": "@jupyter-widgets/controls",
            "_model_module_version": "1.5.0",
            "_model_name": "DescriptionStyleModel",
            "_view_count": null,
            "_view_module": "@jupyter-widgets/base",
            "_view_module_version": "1.2.0",
            "_view_name": "StyleView",
            "description_width": ""
          }
        },
        "148353aac8384a14b92086ebf5b18087": {
          "model_module": "@jupyter-widgets/base",
          "model_module_version": "1.2.0",
          "model_name": "LayoutModel",
          "state": {
            "_model_module": "@jupyter-widgets/base",
            "_model_module_version": "1.2.0",
            "_model_name": "LayoutModel",
            "_view_count": null,
            "_view_module": "@jupyter-widgets/base",
            "_view_module_version": "1.2.0",
            "_view_name": "LayoutView",
            "align_content": null,
            "align_items": null,
            "align_self": null,
            "border": null,
            "bottom": null,
            "display": null,
            "flex": null,
            "flex_flow": null,
            "grid_area": null,
            "grid_auto_columns": null,
            "grid_auto_flow": null,
            "grid_auto_rows": null,
            "grid_column": null,
            "grid_gap": null,
            "grid_row": null,
            "grid_template_areas": null,
            "grid_template_columns": null,
            "grid_template_rows": null,
            "height": null,
            "justify_content": null,
            "justify_items": null,
            "left": null,
            "margin": null,
            "max_height": null,
            "max_width": null,
            "min_height": null,
            "min_width": null,
            "object_fit": null,
            "object_position": null,
            "order": null,
            "overflow": null,
            "overflow_x": null,
            "overflow_y": null,
            "padding": null,
            "right": null,
            "top": null,
            "visibility": null,
            "width": null
          }
        },
        "15ef83528028499a93447d21d595b9bc": {
          "model_module": "@jupyter-widgets/controls",
          "model_module_version": "1.5.0",
          "model_name": "DescriptionStyleModel",
          "state": {
            "_model_module": "@jupyter-widgets/controls",
            "_model_module_version": "1.5.0",
            "_model_name": "DescriptionStyleModel",
            "_view_count": null,
            "_view_module": "@jupyter-widgets/base",
            "_view_module_version": "1.2.0",
            "_view_name": "StyleView",
            "description_width": ""
          }
        },
        "1713e644cddb4ba7847d9cf45ace4e2e": {
          "model_module": "@jupyter-widgets/base",
          "model_module_version": "1.2.0",
          "model_name": "LayoutModel",
          "state": {
            "_model_module": "@jupyter-widgets/base",
            "_model_module_version": "1.2.0",
            "_model_name": "LayoutModel",
            "_view_count": null,
            "_view_module": "@jupyter-widgets/base",
            "_view_module_version": "1.2.0",
            "_view_name": "LayoutView",
            "align_content": null,
            "align_items": null,
            "align_self": null,
            "border": null,
            "bottom": null,
            "display": null,
            "flex": null,
            "flex_flow": null,
            "grid_area": null,
            "grid_auto_columns": null,
            "grid_auto_flow": null,
            "grid_auto_rows": null,
            "grid_column": null,
            "grid_gap": null,
            "grid_row": null,
            "grid_template_areas": null,
            "grid_template_columns": null,
            "grid_template_rows": null,
            "height": null,
            "justify_content": null,
            "justify_items": null,
            "left": null,
            "margin": null,
            "max_height": null,
            "max_width": null,
            "min_height": null,
            "min_width": null,
            "object_fit": null,
            "object_position": null,
            "order": null,
            "overflow": null,
            "overflow_x": null,
            "overflow_y": null,
            "padding": null,
            "right": null,
            "top": null,
            "visibility": null,
            "width": null
          }
        },
        "1a4640015286495a95902cb10220b8a6": {
          "model_module": "@jupyter-widgets/controls",
          "model_module_version": "1.5.0",
          "model_name": "DescriptionStyleModel",
          "state": {
            "_model_module": "@jupyter-widgets/controls",
            "_model_module_version": "1.5.0",
            "_model_name": "DescriptionStyleModel",
            "_view_count": null,
            "_view_module": "@jupyter-widgets/base",
            "_view_module_version": "1.2.0",
            "_view_name": "StyleView",
            "description_width": ""
          }
        },
        "24448ceb200c4392803c0c7d31513b1d": {
          "model_module": "@jupyter-widgets/controls",
          "model_module_version": "1.5.0",
          "model_name": "FloatProgressModel",
          "state": {
            "_dom_classes": [],
            "_model_module": "@jupyter-widgets/controls",
            "_model_module_version": "1.5.0",
            "_model_name": "FloatProgressModel",
            "_view_count": null,
            "_view_module": "@jupyter-widgets/controls",
            "_view_module_version": "1.5.0",
            "_view_name": "ProgressView",
            "bar_style": "success",
            "description": "",
            "description_tooltip": null,
            "layout": "IPY_MODEL_51818e51fdb64b2185b85a1778891616",
            "max": 466062,
            "min": 0,
            "orientation": "horizontal",
            "style": "IPY_MODEL_f917c8a26f8343a49f9f62181d895814",
            "value": 466062
          }
        },
        "26e9ab61fe9e4fe89e4db167255f3a86": {
          "model_module": "@jupyter-widgets/controls",
          "model_module_version": "1.5.0",
          "model_name": "FloatProgressModel",
          "state": {
            "_dom_classes": [],
            "_model_module": "@jupyter-widgets/controls",
            "_model_module_version": "1.5.0",
            "_model_name": "FloatProgressModel",
            "_view_count": null,
            "_view_module": "@jupyter-widgets/controls",
            "_view_module_version": "1.5.0",
            "_view_name": "ProgressView",
            "bar_style": "success",
            "description": "",
            "description_tooltip": null,
            "layout": "IPY_MODEL_772c7b572e02484ca868db504f76c3a9",
            "max": 267954768,
            "min": 0,
            "orientation": "horizontal",
            "style": "IPY_MODEL_466d0f725d87446c90980b686bd52b5a",
            "value": 267954768
          }
        },
        "28501ab2aad040d68099e886426f2218": {
          "model_module": "@jupyter-widgets/controls",
          "model_module_version": "1.5.0",
          "model_name": "ProgressStyleModel",
          "state": {
            "_model_module": "@jupyter-widgets/controls",
            "_model_module_version": "1.5.0",
            "_model_name": "ProgressStyleModel",
            "_view_count": null,
            "_view_module": "@jupyter-widgets/base",
            "_view_module_version": "1.2.0",
            "_view_name": "StyleView",
            "bar_color": null,
            "description_width": ""
          }
        },
        "2f7f17937ffc49c2a3857ce52c6fb918": {
          "model_module": "@jupyter-widgets/base",
          "model_module_version": "1.2.0",
          "model_name": "LayoutModel",
          "state": {
            "_model_module": "@jupyter-widgets/base",
            "_model_module_version": "1.2.0",
            "_model_name": "LayoutModel",
            "_view_count": null,
            "_view_module": "@jupyter-widgets/base",
            "_view_module_version": "1.2.0",
            "_view_name": "LayoutView",
            "align_content": null,
            "align_items": null,
            "align_self": null,
            "border": null,
            "bottom": null,
            "display": null,
            "flex": null,
            "flex_flow": null,
            "grid_area": null,
            "grid_auto_columns": null,
            "grid_auto_flow": null,
            "grid_auto_rows": null,
            "grid_column": null,
            "grid_gap": null,
            "grid_row": null,
            "grid_template_areas": null,
            "grid_template_columns": null,
            "grid_template_rows": null,
            "height": null,
            "justify_content": null,
            "justify_items": null,
            "left": null,
            "margin": null,
            "max_height": null,
            "max_width": null,
            "min_height": null,
            "min_width": null,
            "object_fit": null,
            "object_position": null,
            "order": null,
            "overflow": null,
            "overflow_x": null,
            "overflow_y": null,
            "padding": null,
            "right": null,
            "top": null,
            "visibility": null,
            "width": null
          }
        },
        "333d5f984f8f430f846fd48c0ca6d1e8": {
          "model_module": "@jupyter-widgets/controls",
          "model_module_version": "1.5.0",
          "model_name": "FloatProgressModel",
          "state": {
            "_dom_classes": [],
            "_model_module": "@jupyter-widgets/controls",
            "_model_module_version": "1.5.0",
            "_model_name": "FloatProgressModel",
            "_view_count": null,
            "_view_module": "@jupyter-widgets/controls",
            "_view_module_version": "1.5.0",
            "_view_name": "ProgressView",
            "bar_style": "success",
            "description": "",
            "description_tooltip": null,
            "layout": "IPY_MODEL_2f7f17937ffc49c2a3857ce52c6fb918",
            "max": 231508,
            "min": 0,
            "orientation": "horizontal",
            "style": "IPY_MODEL_c393c7fdb3b24a8e8dd614b38de178e5",
            "value": 231508
          }
        },
        "3fd6e76341a1448fa2509e949cfd2fd4": {
          "model_module": "@jupyter-widgets/controls",
          "model_module_version": "1.5.0",
          "model_name": "HTMLModel",
          "state": {
            "_dom_classes": [],
            "_model_module": "@jupyter-widgets/controls",
            "_model_module_version": "1.5.0",
            "_model_name": "HTMLModel",
            "_view_count": null,
            "_view_module": "@jupyter-widgets/controls",
            "_view_module_version": "1.5.0",
            "_view_name": "HTMLView",
            "description": "",
            "description_tooltip": null,
            "layout": "IPY_MODEL_5779825114e24f7f955bc1eeaf22f9c3",
            "placeholder": "​",
            "style": "IPY_MODEL_15ef83528028499a93447d21d595b9bc",
            "value": " 232k/232k [00:00&lt;00:00, 8.99MB/s]"
          }
        },
        "40c355534ba34901a007b07626ca54df": {
          "model_module": "@jupyter-widgets/controls",
          "model_module_version": "1.5.0",
          "model_name": "HTMLModel",
          "state": {
            "_dom_classes": [],
            "_model_module": "@jupyter-widgets/controls",
            "_model_module_version": "1.5.0",
            "_model_name": "HTMLModel",
            "_view_count": null,
            "_view_module": "@jupyter-widgets/controls",
            "_view_module_version": "1.5.0",
            "_view_name": "HTMLView",
            "description": "",
            "description_tooltip": null,
            "layout": "IPY_MODEL_59ae8c0954da408da71adb54e176c197",
            "placeholder": "​",
            "style": "IPY_MODEL_a2ca2d0459d24af4b2b80cf679f3f28e",
            "value": "config.json: 100%"
          }
        },
        "415f148f153c4ab39d60adea6dcca026": {
          "model_module": "@jupyter-widgets/base",
          "model_module_version": "1.2.0",
          "model_name": "LayoutModel",
          "state": {
            "_model_module": "@jupyter-widgets/base",
            "_model_module_version": "1.2.0",
            "_model_name": "LayoutModel",
            "_view_count": null,
            "_view_module": "@jupyter-widgets/base",
            "_view_module_version": "1.2.0",
            "_view_name": "LayoutView",
            "align_content": null,
            "align_items": null,
            "align_self": null,
            "border": null,
            "bottom": null,
            "display": null,
            "flex": null,
            "flex_flow": null,
            "grid_area": null,
            "grid_auto_columns": null,
            "grid_auto_flow": null,
            "grid_auto_rows": null,
            "grid_column": null,
            "grid_gap": null,
            "grid_row": null,
            "grid_template_areas": null,
            "grid_template_columns": null,
            "grid_template_rows": null,
            "height": null,
            "justify_content": null,
            "justify_items": null,
            "left": null,
            "margin": null,
            "max_height": null,
            "max_width": null,
            "min_height": null,
            "min_width": null,
            "object_fit": null,
            "object_position": null,
            "order": null,
            "overflow": null,
            "overflow_x": null,
            "overflow_y": null,
            "padding": null,
            "right": null,
            "top": null,
            "visibility": null,
            "width": null
          }
        },
        "41930b5d45eb466ab36c3c89c8e4a29e": {
          "model_module": "@jupyter-widgets/base",
          "model_module_version": "1.2.0",
          "model_name": "LayoutModel",
          "state": {
            "_model_module": "@jupyter-widgets/base",
            "_model_module_version": "1.2.0",
            "_model_name": "LayoutModel",
            "_view_count": null,
            "_view_module": "@jupyter-widgets/base",
            "_view_module_version": "1.2.0",
            "_view_name": "LayoutView",
            "align_content": null,
            "align_items": null,
            "align_self": null,
            "border": null,
            "bottom": null,
            "display": null,
            "flex": null,
            "flex_flow": null,
            "grid_area": null,
            "grid_auto_columns": null,
            "grid_auto_flow": null,
            "grid_auto_rows": null,
            "grid_column": null,
            "grid_gap": null,
            "grid_row": null,
            "grid_template_areas": null,
            "grid_template_columns": null,
            "grid_template_rows": null,
            "height": null,
            "justify_content": null,
            "justify_items": null,
            "left": null,
            "margin": null,
            "max_height": null,
            "max_width": null,
            "min_height": null,
            "min_width": null,
            "object_fit": null,
            "object_position": null,
            "order": null,
            "overflow": null,
            "overflow_x": null,
            "overflow_y": null,
            "padding": null,
            "right": null,
            "top": null,
            "visibility": null,
            "width": null
          }
        },
        "4208f05916f7473ea171e75035a37650": {
          "model_module": "@jupyter-widgets/base",
          "model_module_version": "1.2.0",
          "model_name": "LayoutModel",
          "state": {
            "_model_module": "@jupyter-widgets/base",
            "_model_module_version": "1.2.0",
            "_model_name": "LayoutModel",
            "_view_count": null,
            "_view_module": "@jupyter-widgets/base",
            "_view_module_version": "1.2.0",
            "_view_name": "LayoutView",
            "align_content": null,
            "align_items": null,
            "align_self": null,
            "border": null,
            "bottom": null,
            "display": null,
            "flex": null,
            "flex_flow": null,
            "grid_area": null,
            "grid_auto_columns": null,
            "grid_auto_flow": null,
            "grid_auto_rows": null,
            "grid_column": null,
            "grid_gap": null,
            "grid_row": null,
            "grid_template_areas": null,
            "grid_template_columns": null,
            "grid_template_rows": null,
            "height": null,
            "justify_content": null,
            "justify_items": null,
            "left": null,
            "margin": null,
            "max_height": null,
            "max_width": null,
            "min_height": null,
            "min_width": null,
            "object_fit": null,
            "object_position": null,
            "order": null,
            "overflow": null,
            "overflow_x": null,
            "overflow_y": null,
            "padding": null,
            "right": null,
            "top": null,
            "visibility": null,
            "width": null
          }
        },
        "466d0f725d87446c90980b686bd52b5a": {
          "model_module": "@jupyter-widgets/controls",
          "model_module_version": "1.5.0",
          "model_name": "ProgressStyleModel",
          "state": {
            "_model_module": "@jupyter-widgets/controls",
            "_model_module_version": "1.5.0",
            "_model_name": "ProgressStyleModel",
            "_view_count": null,
            "_view_module": "@jupyter-widgets/base",
            "_view_module_version": "1.2.0",
            "_view_name": "StyleView",
            "bar_color": null,
            "description_width": ""
          }
        },
        "46e2b893a7df4d2a9e8b1c390f57557c": {
          "model_module": "@jupyter-widgets/base",
          "model_module_version": "1.2.0",
          "model_name": "LayoutModel",
          "state": {
            "_model_module": "@jupyter-widgets/base",
            "_model_module_version": "1.2.0",
            "_model_name": "LayoutModel",
            "_view_count": null,
            "_view_module": "@jupyter-widgets/base",
            "_view_module_version": "1.2.0",
            "_view_name": "LayoutView",
            "align_content": null,
            "align_items": null,
            "align_self": null,
            "border": null,
            "bottom": null,
            "display": null,
            "flex": null,
            "flex_flow": null,
            "grid_area": null,
            "grid_auto_columns": null,
            "grid_auto_flow": null,
            "grid_auto_rows": null,
            "grid_column": null,
            "grid_gap": null,
            "grid_row": null,
            "grid_template_areas": null,
            "grid_template_columns": null,
            "grid_template_rows": null,
            "height": null,
            "justify_content": null,
            "justify_items": null,
            "left": null,
            "margin": null,
            "max_height": null,
            "max_width": null,
            "min_height": null,
            "min_width": null,
            "object_fit": null,
            "object_position": null,
            "order": null,
            "overflow": null,
            "overflow_x": null,
            "overflow_y": null,
            "padding": null,
            "right": null,
            "top": null,
            "visibility": null,
            "width": null
          }
        },
        "4c00ed9fbb6349f6986d5972c81b35db": {
          "model_module": "@jupyter-widgets/base",
          "model_module_version": "1.2.0",
          "model_name": "LayoutModel",
          "state": {
            "_model_module": "@jupyter-widgets/base",
            "_model_module_version": "1.2.0",
            "_model_name": "LayoutModel",
            "_view_count": null,
            "_view_module": "@jupyter-widgets/base",
            "_view_module_version": "1.2.0",
            "_view_name": "LayoutView",
            "align_content": null,
            "align_items": null,
            "align_self": null,
            "border": null,
            "bottom": null,
            "display": null,
            "flex": null,
            "flex_flow": null,
            "grid_area": null,
            "grid_auto_columns": null,
            "grid_auto_flow": null,
            "grid_auto_rows": null,
            "grid_column": null,
            "grid_gap": null,
            "grid_row": null,
            "grid_template_areas": null,
            "grid_template_columns": null,
            "grid_template_rows": null,
            "height": null,
            "justify_content": null,
            "justify_items": null,
            "left": null,
            "margin": null,
            "max_height": null,
            "max_width": null,
            "min_height": null,
            "min_width": null,
            "object_fit": null,
            "object_position": null,
            "order": null,
            "overflow": null,
            "overflow_x": null,
            "overflow_y": null,
            "padding": null,
            "right": null,
            "top": null,
            "visibility": null,
            "width": null
          }
        },
        "4ce0fb19d37e4a8ca8298eb4f0b79bf3": {
          "model_module": "@jupyter-widgets/controls",
          "model_module_version": "1.5.0",
          "model_name": "HBoxModel",
          "state": {
            "_dom_classes": [],
            "_model_module": "@jupyter-widgets/controls",
            "_model_module_version": "1.5.0",
            "_model_name": "HBoxModel",
            "_view_count": null,
            "_view_module": "@jupyter-widgets/controls",
            "_view_module_version": "1.5.0",
            "_view_name": "HBoxView",
            "box_style": "",
            "children": [
              "IPY_MODEL_7972e2dfffe2437db5298a3e15d64634",
              "IPY_MODEL_26e9ab61fe9e4fe89e4db167255f3a86",
              "IPY_MODEL_5c744f19262f4347835d638a284eb5ca"
            ],
            "layout": "IPY_MODEL_8b9138c65aa44adc89c3e84e94664b61"
          }
        },
        "51818e51fdb64b2185b85a1778891616": {
          "model_module": "@jupyter-widgets/base",
          "model_module_version": "1.2.0",
          "model_name": "LayoutModel",
          "state": {
            "_model_module": "@jupyter-widgets/base",
            "_model_module_version": "1.2.0",
            "_model_name": "LayoutModel",
            "_view_count": null,
            "_view_module": "@jupyter-widgets/base",
            "_view_module_version": "1.2.0",
            "_view_name": "LayoutView",
            "align_content": null,
            "align_items": null,
            "align_self": null,
            "border": null,
            "bottom": null,
            "display": null,
            "flex": null,
            "flex_flow": null,
            "grid_area": null,
            "grid_auto_columns": null,
            "grid_auto_flow": null,
            "grid_auto_rows": null,
            "grid_column": null,
            "grid_gap": null,
            "grid_row": null,
            "grid_template_areas": null,
            "grid_template_columns": null,
            "grid_template_rows": null,
            "height": null,
            "justify_content": null,
            "justify_items": null,
            "left": null,
            "margin": null,
            "max_height": null,
            "max_width": null,
            "min_height": null,
            "min_width": null,
            "object_fit": null,
            "object_position": null,
            "order": null,
            "overflow": null,
            "overflow_x": null,
            "overflow_y": null,
            "padding": null,
            "right": null,
            "top": null,
            "visibility": null,
            "width": null
          }
        },
        "528d26a698474b159e0f692393ed0154": {
          "model_module": "@jupyter-widgets/controls",
          "model_module_version": "1.5.0",
          "model_name": "DescriptionStyleModel",
          "state": {
            "_model_module": "@jupyter-widgets/controls",
            "_model_module_version": "1.5.0",
            "_model_name": "DescriptionStyleModel",
            "_view_count": null,
            "_view_module": "@jupyter-widgets/base",
            "_view_module_version": "1.2.0",
            "_view_name": "StyleView",
            "description_width": ""
          }
        },
        "533a0fda590a44468b6aca0b84b14f71": {
          "model_module": "@jupyter-widgets/controls",
          "model_module_version": "1.5.0",
          "model_name": "DescriptionStyleModel",
          "state": {
            "_model_module": "@jupyter-widgets/controls",
            "_model_module_version": "1.5.0",
            "_model_name": "DescriptionStyleModel",
            "_view_count": null,
            "_view_module": "@jupyter-widgets/base",
            "_view_module_version": "1.2.0",
            "_view_name": "StyleView",
            "description_width": ""
          }
        },
        "5403d0025f544651914eeb3891e3da33": {
          "model_module": "@jupyter-widgets/controls",
          "model_module_version": "1.5.0",
          "model_name": "HTMLModel",
          "state": {
            "_dom_classes": [],
            "_model_module": "@jupyter-widgets/controls",
            "_model_module_version": "1.5.0",
            "_model_name": "HTMLModel",
            "_view_count": null,
            "_view_module": "@jupyter-widgets/controls",
            "_view_module_version": "1.5.0",
            "_view_name": "HTMLView",
            "description": "",
            "description_tooltip": null,
            "layout": "IPY_MODEL_0c04cb5fdddd489794bd88921154330b",
            "placeholder": "​",
            "style": "IPY_MODEL_89872f648ed94bdba7f9b5bbdaaac09f",
            "value": " 483/483 [00:00&lt;00:00, 20.4kB/s]"
          }
        },
        "57604517efc64d42b96836c0b024438f": {
          "model_module": "@jupyter-widgets/controls",
          "model_module_version": "1.5.0",
          "model_name": "HBoxModel",
          "state": {
            "_dom_classes": [],
            "_model_module": "@jupyter-widgets/controls",
            "_model_module_version": "1.5.0",
            "_model_name": "HBoxModel",
            "_view_count": null,
            "_view_module": "@jupyter-widgets/controls",
            "_view_module_version": "1.5.0",
            "_view_name": "HBoxView",
            "box_style": "",
            "children": [
              "IPY_MODEL_64229a1dce3345c8bcbdc8acfc7c50ee",
              "IPY_MODEL_333d5f984f8f430f846fd48c0ca6d1e8",
              "IPY_MODEL_3fd6e76341a1448fa2509e949cfd2fd4"
            ],
            "layout": "IPY_MODEL_6c96258102f44775ba0ba683a2ec1ffb"
          }
        },
        "5779825114e24f7f955bc1eeaf22f9c3": {
          "model_module": "@jupyter-widgets/base",
          "model_module_version": "1.2.0",
          "model_name": "LayoutModel",
          "state": {
            "_model_module": "@jupyter-widgets/base",
            "_model_module_version": "1.2.0",
            "_model_name": "LayoutModel",
            "_view_count": null,
            "_view_module": "@jupyter-widgets/base",
            "_view_module_version": "1.2.0",
            "_view_name": "LayoutView",
            "align_content": null,
            "align_items": null,
            "align_self": null,
            "border": null,
            "bottom": null,
            "display": null,
            "flex": null,
            "flex_flow": null,
            "grid_area": null,
            "grid_auto_columns": null,
            "grid_auto_flow": null,
            "grid_auto_rows": null,
            "grid_column": null,
            "grid_gap": null,
            "grid_row": null,
            "grid_template_areas": null,
            "grid_template_columns": null,
            "grid_template_rows": null,
            "height": null,
            "justify_content": null,
            "justify_items": null,
            "left": null,
            "margin": null,
            "max_height": null,
            "max_width": null,
            "min_height": null,
            "min_width": null,
            "object_fit": null,
            "object_position": null,
            "order": null,
            "overflow": null,
            "overflow_x": null,
            "overflow_y": null,
            "padding": null,
            "right": null,
            "top": null,
            "visibility": null,
            "width": null
          }
        },
        "59ae8c0954da408da71adb54e176c197": {
          "model_module": "@jupyter-widgets/base",
          "model_module_version": "1.2.0",
          "model_name": "LayoutModel",
          "state": {
            "_model_module": "@jupyter-widgets/base",
            "_model_module_version": "1.2.0",
            "_model_name": "LayoutModel",
            "_view_count": null,
            "_view_module": "@jupyter-widgets/base",
            "_view_module_version": "1.2.0",
            "_view_name": "LayoutView",
            "align_content": null,
            "align_items": null,
            "align_self": null,
            "border": null,
            "bottom": null,
            "display": null,
            "flex": null,
            "flex_flow": null,
            "grid_area": null,
            "grid_auto_columns": null,
            "grid_auto_flow": null,
            "grid_auto_rows": null,
            "grid_column": null,
            "grid_gap": null,
            "grid_row": null,
            "grid_template_areas": null,
            "grid_template_columns": null,
            "grid_template_rows": null,
            "height": null,
            "justify_content": null,
            "justify_items": null,
            "left": null,
            "margin": null,
            "max_height": null,
            "max_width": null,
            "min_height": null,
            "min_width": null,
            "object_fit": null,
            "object_position": null,
            "order": null,
            "overflow": null,
            "overflow_x": null,
            "overflow_y": null,
            "padding": null,
            "right": null,
            "top": null,
            "visibility": null,
            "width": null
          }
        },
        "5c744f19262f4347835d638a284eb5ca": {
          "model_module": "@jupyter-widgets/controls",
          "model_module_version": "1.5.0",
          "model_name": "HTMLModel",
          "state": {
            "_dom_classes": [],
            "_model_module": "@jupyter-widgets/controls",
            "_model_module_version": "1.5.0",
            "_model_name": "HTMLModel",
            "_view_count": null,
            "_view_module": "@jupyter-widgets/controls",
            "_view_module_version": "1.5.0",
            "_view_name": "HTMLView",
            "description": "",
            "description_tooltip": null,
            "layout": "IPY_MODEL_148353aac8384a14b92086ebf5b18087",
            "placeholder": "​",
            "style": "IPY_MODEL_1a4640015286495a95902cb10220b8a6",
            "value": " 268M/268M [00:00&lt;00:00, 344MB/s]"
          }
        },
        "63cb2a392d314e2b8a80308bf340bd32": {
          "model_module": "@jupyter-widgets/controls",
          "model_module_version": "1.5.0",
          "model_name": "HBoxModel",
          "state": {
            "_dom_classes": [],
            "_model_module": "@jupyter-widgets/controls",
            "_model_module_version": "1.5.0",
            "_model_name": "HBoxModel",
            "_view_count": null,
            "_view_module": "@jupyter-widgets/controls",
            "_view_module_version": "1.5.0",
            "_view_name": "HBoxView",
            "box_style": "",
            "children": [
              "IPY_MODEL_cfdc2edeafc64caf856b05743a776251",
              "IPY_MODEL_021770ef8908442bb593722adcd2488f",
              "IPY_MODEL_eb46fff856b444deacb39a4daa80469d"
            ],
            "layout": "IPY_MODEL_e364ab9dd63e4bf8801a0111c9eb606d"
          }
        },
        "64229a1dce3345c8bcbdc8acfc7c50ee": {
          "model_module": "@jupyter-widgets/controls",
          "model_module_version": "1.5.0",
          "model_name": "HTMLModel",
          "state": {
            "_dom_classes": [],
            "_model_module": "@jupyter-widgets/controls",
            "_model_module_version": "1.5.0",
            "_model_name": "HTMLModel",
            "_view_count": null,
            "_view_module": "@jupyter-widgets/controls",
            "_view_module_version": "1.5.0",
            "_view_name": "HTMLView",
            "description": "",
            "description_tooltip": null,
            "layout": "IPY_MODEL_4c00ed9fbb6349f6986d5972c81b35db",
            "placeholder": "​",
            "style": "IPY_MODEL_d652771a32994ae0b002e7aa65e9a707",
            "value": "vocab.txt: 100%"
          }
        },
        "6c96258102f44775ba0ba683a2ec1ffb": {
          "model_module": "@jupyter-widgets/base",
          "model_module_version": "1.2.0",
          "model_name": "LayoutModel",
          "state": {
            "_model_module": "@jupyter-widgets/base",
            "_model_module_version": "1.2.0",
            "_model_name": "LayoutModel",
            "_view_count": null,
            "_view_module": "@jupyter-widgets/base",
            "_view_module_version": "1.2.0",
            "_view_name": "LayoutView",
            "align_content": null,
            "align_items": null,
            "align_self": null,
            "border": null,
            "bottom": null,
            "display": null,
            "flex": null,
            "flex_flow": null,
            "grid_area": null,
            "grid_auto_columns": null,
            "grid_auto_flow": null,
            "grid_auto_rows": null,
            "grid_column": null,
            "grid_gap": null,
            "grid_row": null,
            "grid_template_areas": null,
            "grid_template_columns": null,
            "grid_template_rows": null,
            "height": null,
            "justify_content": null,
            "justify_items": null,
            "left": null,
            "margin": null,
            "max_height": null,
            "max_width": null,
            "min_height": null,
            "min_width": null,
            "object_fit": null,
            "object_position": null,
            "order": null,
            "overflow": null,
            "overflow_x": null,
            "overflow_y": null,
            "padding": null,
            "right": null,
            "top": null,
            "visibility": null,
            "width": null
          }
        },
        "75e0a9d574ec42cca9ae5fd4a59e67c0": {
          "model_module": "@jupyter-widgets/controls",
          "model_module_version": "1.5.0",
          "model_name": "DescriptionStyleModel",
          "state": {
            "_model_module": "@jupyter-widgets/controls",
            "_model_module_version": "1.5.0",
            "_model_name": "DescriptionStyleModel",
            "_view_count": null,
            "_view_module": "@jupyter-widgets/base",
            "_view_module_version": "1.2.0",
            "_view_name": "StyleView",
            "description_width": ""
          }
        },
        "772c7b572e02484ca868db504f76c3a9": {
          "model_module": "@jupyter-widgets/base",
          "model_module_version": "1.2.0",
          "model_name": "LayoutModel",
          "state": {
            "_model_module": "@jupyter-widgets/base",
            "_model_module_version": "1.2.0",
            "_model_name": "LayoutModel",
            "_view_count": null,
            "_view_module": "@jupyter-widgets/base",
            "_view_module_version": "1.2.0",
            "_view_name": "LayoutView",
            "align_content": null,
            "align_items": null,
            "align_self": null,
            "border": null,
            "bottom": null,
            "display": null,
            "flex": null,
            "flex_flow": null,
            "grid_area": null,
            "grid_auto_columns": null,
            "grid_auto_flow": null,
            "grid_auto_rows": null,
            "grid_column": null,
            "grid_gap": null,
            "grid_row": null,
            "grid_template_areas": null,
            "grid_template_columns": null,
            "grid_template_rows": null,
            "height": null,
            "justify_content": null,
            "justify_items": null,
            "left": null,
            "margin": null,
            "max_height": null,
            "max_width": null,
            "min_height": null,
            "min_width": null,
            "object_fit": null,
            "object_position": null,
            "order": null,
            "overflow": null,
            "overflow_x": null,
            "overflow_y": null,
            "padding": null,
            "right": null,
            "top": null,
            "visibility": null,
            "width": null
          }
        },
        "7972e2dfffe2437db5298a3e15d64634": {
          "model_module": "@jupyter-widgets/controls",
          "model_module_version": "1.5.0",
          "model_name": "HTMLModel",
          "state": {
            "_dom_classes": [],
            "_model_module": "@jupyter-widgets/controls",
            "_model_module_version": "1.5.0",
            "_model_name": "HTMLModel",
            "_view_count": null,
            "_view_module": "@jupyter-widgets/controls",
            "_view_module_version": "1.5.0",
            "_view_name": "HTMLView",
            "description": "",
            "description_tooltip": null,
            "layout": "IPY_MODEL_fbf062c75e5c4c0bbd5f87d7e5cb5eb6",
            "placeholder": "​",
            "style": "IPY_MODEL_533a0fda590a44468b6aca0b84b14f71",
            "value": "model.safetensors: 100%"
          }
        },
        "89872f648ed94bdba7f9b5bbdaaac09f": {
          "model_module": "@jupyter-widgets/controls",
          "model_module_version": "1.5.0",
          "model_name": "DescriptionStyleModel",
          "state": {
            "_model_module": "@jupyter-widgets/controls",
            "_model_module_version": "1.5.0",
            "_model_name": "DescriptionStyleModel",
            "_view_count": null,
            "_view_module": "@jupyter-widgets/base",
            "_view_module_version": "1.2.0",
            "_view_name": "StyleView",
            "description_width": ""
          }
        },
        "8b9138c65aa44adc89c3e84e94664b61": {
          "model_module": "@jupyter-widgets/base",
          "model_module_version": "1.2.0",
          "model_name": "LayoutModel",
          "state": {
            "_model_module": "@jupyter-widgets/base",
            "_model_module_version": "1.2.0",
            "_model_name": "LayoutModel",
            "_view_count": null,
            "_view_module": "@jupyter-widgets/base",
            "_view_module_version": "1.2.0",
            "_view_name": "LayoutView",
            "align_content": null,
            "align_items": null,
            "align_self": null,
            "border": null,
            "bottom": null,
            "display": null,
            "flex": null,
            "flex_flow": null,
            "grid_area": null,
            "grid_auto_columns": null,
            "grid_auto_flow": null,
            "grid_auto_rows": null,
            "grid_column": null,
            "grid_gap": null,
            "grid_row": null,
            "grid_template_areas": null,
            "grid_template_columns": null,
            "grid_template_rows": null,
            "height": null,
            "justify_content": null,
            "justify_items": null,
            "left": null,
            "margin": null,
            "max_height": null,
            "max_width": null,
            "min_height": null,
            "min_width": null,
            "object_fit": null,
            "object_position": null,
            "order": null,
            "overflow": null,
            "overflow_x": null,
            "overflow_y": null,
            "padding": null,
            "right": null,
            "top": null,
            "visibility": null,
            "width": null
          }
        },
        "92d9c4d3f8614947b0a503ca3f250c2a": {
          "model_module": "@jupyter-widgets/controls",
          "model_module_version": "1.5.0",
          "model_name": "DescriptionStyleModel",
          "state": {
            "_model_module": "@jupyter-widgets/controls",
            "_model_module_version": "1.5.0",
            "_model_name": "DescriptionStyleModel",
            "_view_count": null,
            "_view_module": "@jupyter-widgets/base",
            "_view_module_version": "1.2.0",
            "_view_name": "StyleView",
            "description_width": ""
          }
        },
        "9c9e3c2ff96f4170902915ee4b6351f9": {
          "model_module": "@jupyter-widgets/controls",
          "model_module_version": "1.5.0",
          "model_name": "FloatProgressModel",
          "state": {
            "_dom_classes": [],
            "_model_module": "@jupyter-widgets/controls",
            "_model_module_version": "1.5.0",
            "_model_name": "FloatProgressModel",
            "_view_count": null,
            "_view_module": "@jupyter-widgets/controls",
            "_view_module_version": "1.5.0",
            "_view_name": "ProgressView",
            "bar_style": "success",
            "description": "",
            "description_tooltip": null,
            "layout": "IPY_MODEL_bf222c219f474eeba73d463ea6ddbcdb",
            "max": 483,
            "min": 0,
            "orientation": "horizontal",
            "style": "IPY_MODEL_28501ab2aad040d68099e886426f2218",
            "value": 483
          }
        },
        "a2ca2d0459d24af4b2b80cf679f3f28e": {
          "model_module": "@jupyter-widgets/controls",
          "model_module_version": "1.5.0",
          "model_name": "DescriptionStyleModel",
          "state": {
            "_model_module": "@jupyter-widgets/controls",
            "_model_module_version": "1.5.0",
            "_model_name": "DescriptionStyleModel",
            "_view_count": null,
            "_view_module": "@jupyter-widgets/base",
            "_view_module_version": "1.2.0",
            "_view_name": "StyleView",
            "description_width": ""
          }
        },
        "b37fc9745e2f4624825f1e42a205ca38": {
          "model_module": "@jupyter-widgets/controls",
          "model_module_version": "1.5.0",
          "model_name": "ProgressStyleModel",
          "state": {
            "_model_module": "@jupyter-widgets/controls",
            "_model_module_version": "1.5.0",
            "_model_name": "ProgressStyleModel",
            "_view_count": null,
            "_view_module": "@jupyter-widgets/base",
            "_view_module_version": "1.2.0",
            "_view_name": "StyleView",
            "bar_color": null,
            "description_width": ""
          }
        },
        "bd615472718347a4811096c3b73f8f55": {
          "model_module": "@jupyter-widgets/controls",
          "model_module_version": "1.5.0",
          "model_name": "HBoxModel",
          "state": {
            "_dom_classes": [],
            "_model_module": "@jupyter-widgets/controls",
            "_model_module_version": "1.5.0",
            "_model_name": "HBoxModel",
            "_view_count": null,
            "_view_module": "@jupyter-widgets/controls",
            "_view_module_version": "1.5.0",
            "_view_name": "HBoxView",
            "box_style": "",
            "children": [
              "IPY_MODEL_40c355534ba34901a007b07626ca54df",
              "IPY_MODEL_9c9e3c2ff96f4170902915ee4b6351f9",
              "IPY_MODEL_5403d0025f544651914eeb3891e3da33"
            ],
            "layout": "IPY_MODEL_46e2b893a7df4d2a9e8b1c390f57557c"
          }
        },
        "bf222c219f474eeba73d463ea6ddbcdb": {
          "model_module": "@jupyter-widgets/base",
          "model_module_version": "1.2.0",
          "model_name": "LayoutModel",
          "state": {
            "_model_module": "@jupyter-widgets/base",
            "_model_module_version": "1.2.0",
            "_model_name": "LayoutModel",
            "_view_count": null,
            "_view_module": "@jupyter-widgets/base",
            "_view_module_version": "1.2.0",
            "_view_name": "LayoutView",
            "align_content": null,
            "align_items": null,
            "align_self": null,
            "border": null,
            "bottom": null,
            "display": null,
            "flex": null,
            "flex_flow": null,
            "grid_area": null,
            "grid_auto_columns": null,
            "grid_auto_flow": null,
            "grid_auto_rows": null,
            "grid_column": null,
            "grid_gap": null,
            "grid_row": null,
            "grid_template_areas": null,
            "grid_template_columns": null,
            "grid_template_rows": null,
            "height": null,
            "justify_content": null,
            "justify_items": null,
            "left": null,
            "margin": null,
            "max_height": null,
            "max_width": null,
            "min_height": null,
            "min_width": null,
            "object_fit": null,
            "object_position": null,
            "order": null,
            "overflow": null,
            "overflow_x": null,
            "overflow_y": null,
            "padding": null,
            "right": null,
            "top": null,
            "visibility": null,
            "width": null
          }
        },
        "c393c7fdb3b24a8e8dd614b38de178e5": {
          "model_module": "@jupyter-widgets/controls",
          "model_module_version": "1.5.0",
          "model_name": "ProgressStyleModel",
          "state": {
            "_model_module": "@jupyter-widgets/controls",
            "_model_module_version": "1.5.0",
            "_model_name": "ProgressStyleModel",
            "_view_count": null,
            "_view_module": "@jupyter-widgets/base",
            "_view_module_version": "1.2.0",
            "_view_name": "StyleView",
            "bar_color": null,
            "description_width": ""
          }
        },
        "c62f528051fb49969f26b8d177159117": {
          "model_module": "@jupyter-widgets/controls",
          "model_module_version": "1.5.0",
          "model_name": "HBoxModel",
          "state": {
            "_dom_classes": [],
            "_model_module": "@jupyter-widgets/controls",
            "_model_module_version": "1.5.0",
            "_model_name": "HBoxModel",
            "_view_count": null,
            "_view_module": "@jupyter-widgets/controls",
            "_view_module_version": "1.5.0",
            "_view_name": "HBoxView",
            "box_style": "",
            "children": [
              "IPY_MODEL_e6c8bf8e45934cfcb571e02d7769c305",
              "IPY_MODEL_24448ceb200c4392803c0c7d31513b1d",
              "IPY_MODEL_f003b0c2a60b40209c995bafb74c3cd9"
            ],
            "layout": "IPY_MODEL_cbbb942c32b945758855e6d23f5c48c8"
          }
        },
        "cbbb942c32b945758855e6d23f5c48c8": {
          "model_module": "@jupyter-widgets/base",
          "model_module_version": "1.2.0",
          "model_name": "LayoutModel",
          "state": {
            "_model_module": "@jupyter-widgets/base",
            "_model_module_version": "1.2.0",
            "_model_name": "LayoutModel",
            "_view_count": null,
            "_view_module": "@jupyter-widgets/base",
            "_view_module_version": "1.2.0",
            "_view_name": "LayoutView",
            "align_content": null,
            "align_items": null,
            "align_self": null,
            "border": null,
            "bottom": null,
            "display": null,
            "flex": null,
            "flex_flow": null,
            "grid_area": null,
            "grid_auto_columns": null,
            "grid_auto_flow": null,
            "grid_auto_rows": null,
            "grid_column": null,
            "grid_gap": null,
            "grid_row": null,
            "grid_template_areas": null,
            "grid_template_columns": null,
            "grid_template_rows": null,
            "height": null,
            "justify_content": null,
            "justify_items": null,
            "left": null,
            "margin": null,
            "max_height": null,
            "max_width": null,
            "min_height": null,
            "min_width": null,
            "object_fit": null,
            "object_position": null,
            "order": null,
            "overflow": null,
            "overflow_x": null,
            "overflow_y": null,
            "padding": null,
            "right": null,
            "top": null,
            "visibility": null,
            "width": null
          }
        },
        "cfdc2edeafc64caf856b05743a776251": {
          "model_module": "@jupyter-widgets/controls",
          "model_module_version": "1.5.0",
          "model_name": "HTMLModel",
          "state": {
            "_dom_classes": [],
            "_model_module": "@jupyter-widgets/controls",
            "_model_module_version": "1.5.0",
            "_model_name": "HTMLModel",
            "_view_count": null,
            "_view_module": "@jupyter-widgets/controls",
            "_view_module_version": "1.5.0",
            "_view_name": "HTMLView",
            "description": "",
            "description_tooltip": null,
            "layout": "IPY_MODEL_4208f05916f7473ea171e75035a37650",
            "placeholder": "​",
            "style": "IPY_MODEL_92d9c4d3f8614947b0a503ca3f250c2a",
            "value": "tokenizer_config.json: 100%"
          }
        },
        "d652771a32994ae0b002e7aa65e9a707": {
          "model_module": "@jupyter-widgets/controls",
          "model_module_version": "1.5.0",
          "model_name": "DescriptionStyleModel",
          "state": {
            "_model_module": "@jupyter-widgets/controls",
            "_model_module_version": "1.5.0",
            "_model_name": "DescriptionStyleModel",
            "_view_count": null,
            "_view_module": "@jupyter-widgets/base",
            "_view_module_version": "1.2.0",
            "_view_name": "StyleView",
            "description_width": ""
          }
        },
        "e364ab9dd63e4bf8801a0111c9eb606d": {
          "model_module": "@jupyter-widgets/base",
          "model_module_version": "1.2.0",
          "model_name": "LayoutModel",
          "state": {
            "_model_module": "@jupyter-widgets/base",
            "_model_module_version": "1.2.0",
            "_model_name": "LayoutModel",
            "_view_count": null,
            "_view_module": "@jupyter-widgets/base",
            "_view_module_version": "1.2.0",
            "_view_name": "LayoutView",
            "align_content": null,
            "align_items": null,
            "align_self": null,
            "border": null,
            "bottom": null,
            "display": null,
            "flex": null,
            "flex_flow": null,
            "grid_area": null,
            "grid_auto_columns": null,
            "grid_auto_flow": null,
            "grid_auto_rows": null,
            "grid_column": null,
            "grid_gap": null,
            "grid_row": null,
            "grid_template_areas": null,
            "grid_template_columns": null,
            "grid_template_rows": null,
            "height": null,
            "justify_content": null,
            "justify_items": null,
            "left": null,
            "margin": null,
            "max_height": null,
            "max_width": null,
            "min_height": null,
            "min_width": null,
            "object_fit": null,
            "object_position": null,
            "order": null,
            "overflow": null,
            "overflow_x": null,
            "overflow_y": null,
            "padding": null,
            "right": null,
            "top": null,
            "visibility": null,
            "width": null
          }
        },
        "e6c8bf8e45934cfcb571e02d7769c305": {
          "model_module": "@jupyter-widgets/controls",
          "model_module_version": "1.5.0",
          "model_name": "HTMLModel",
          "state": {
            "_dom_classes": [],
            "_model_module": "@jupyter-widgets/controls",
            "_model_module_version": "1.5.0",
            "_model_name": "HTMLModel",
            "_view_count": null,
            "_view_module": "@jupyter-widgets/controls",
            "_view_module_version": "1.5.0",
            "_view_name": "HTMLView",
            "description": "",
            "description_tooltip": null,
            "layout": "IPY_MODEL_13414e20a34441a29916bf3837bc0d69",
            "placeholder": "​",
            "style": "IPY_MODEL_75e0a9d574ec42cca9ae5fd4a59e67c0",
            "value": "tokenizer.json: 100%"
          }
        },
        "eb46fff856b444deacb39a4daa80469d": {
          "model_module": "@jupyter-widgets/controls",
          "model_module_version": "1.5.0",
          "model_name": "HTMLModel",
          "state": {
            "_dom_classes": [],
            "_model_module": "@jupyter-widgets/controls",
            "_model_module_version": "1.5.0",
            "_model_name": "HTMLModel",
            "_view_count": null,
            "_view_module": "@jupyter-widgets/controls",
            "_view_module_version": "1.5.0",
            "_view_name": "HTMLView",
            "description": "",
            "description_tooltip": null,
            "layout": "IPY_MODEL_41930b5d45eb466ab36c3c89c8e4a29e",
            "placeholder": "​",
            "style": "IPY_MODEL_13852c2a84e14394855f3c91dbeac7c6",
            "value": " 28.0/28.0 [00:00&lt;00:00, 1.03kB/s]"
          }
        },
        "f003b0c2a60b40209c995bafb74c3cd9": {
          "model_module": "@jupyter-widgets/controls",
          "model_module_version": "1.5.0",
          "model_name": "HTMLModel",
          "state": {
            "_dom_classes": [],
            "_model_module": "@jupyter-widgets/controls",
            "_model_module_version": "1.5.0",
            "_model_name": "HTMLModel",
            "_view_count": null,
            "_view_module": "@jupyter-widgets/controls",
            "_view_module_version": "1.5.0",
            "_view_name": "HTMLView",
            "description": "",
            "description_tooltip": null,
            "layout": "IPY_MODEL_1713e644cddb4ba7847d9cf45ace4e2e",
            "placeholder": "​",
            "style": "IPY_MODEL_528d26a698474b159e0f692393ed0154",
            "value": " 466k/466k [00:00&lt;00:00, 25.6MB/s]"
          }
        },
        "f917c8a26f8343a49f9f62181d895814": {
          "model_module": "@jupyter-widgets/controls",
          "model_module_version": "1.5.0",
          "model_name": "ProgressStyleModel",
          "state": {
            "_model_module": "@jupyter-widgets/controls",
            "_model_module_version": "1.5.0",
            "_model_name": "ProgressStyleModel",
            "_view_count": null,
            "_view_module": "@jupyter-widgets/base",
            "_view_module_version": "1.2.0",
            "_view_name": "StyleView",
            "bar_color": null,
            "description_width": ""
          }
        },
        "fbf062c75e5c4c0bbd5f87d7e5cb5eb6": {
          "model_module": "@jupyter-widgets/base",
          "model_module_version": "1.2.0",
          "model_name": "LayoutModel",
          "state": {
            "_model_module": "@jupyter-widgets/base",
            "_model_module_version": "1.2.0",
            "_model_name": "LayoutModel",
            "_view_count": null,
            "_view_module": "@jupyter-widgets/base",
            "_view_module_version": "1.2.0",
            "_view_name": "LayoutView",
            "align_content": null,
            "align_items": null,
            "align_self": null,
            "border": null,
            "bottom": null,
            "display": null,
            "flex": null,
            "flex_flow": null,
            "grid_area": null,
            "grid_auto_columns": null,
            "grid_auto_flow": null,
            "grid_auto_rows": null,
            "grid_column": null,
            "grid_gap": null,
            "grid_row": null,
            "grid_template_areas": null,
            "grid_template_columns": null,
            "grid_template_rows": null,
            "height": null,
            "justify_content": null,
            "justify_items": null,
            "left": null,
            "margin": null,
            "max_height": null,
            "max_width": null,
            "min_height": null,
            "min_width": null,
            "object_fit": null,
            "object_position": null,
            "order": null,
            "overflow": null,
            "overflow_x": null,
            "overflow_y": null,
            "padding": null,
            "right": null,
            "top": null,
            "visibility": null,
            "width": null
          }
        }
      }
    }
  },
  "nbformat": 4,
  "nbformat_minor": 0
}
